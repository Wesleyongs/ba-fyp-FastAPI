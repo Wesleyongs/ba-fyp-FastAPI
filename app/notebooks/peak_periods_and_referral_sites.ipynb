{
 "cells": [
  {
   "cell_type": "code",
   "execution_count": 682,
   "metadata": {},
   "outputs": [],
   "source": [
    "# Import Pandas Library \n",
    "import pandas as pd\n",
    "import numpy\n"
   ]
  },
  {
   "cell_type": "code",
   "execution_count": 683,
   "metadata": {},
   "outputs": [],
   "source": [
    "# jamstones = pd.read_csv('../../../fyp_data/jamstones.csv')\n",
    "# lavval = pd.read_csv(\"../../../fyp_data/lavval.csv\")\n",
    "# newagefsg = pd.read_csv(\"../../../fyp_data/newagefsg.csv\")\n",
    "\n",
    "jamstones = pd.read_csv('jamstones.csv')\n",
    "lavval = pd.read_csv(\"lavval.csv\")\n",
    "newagefsg = pd.read_csv(\"newagefsg.csv\")\n"
   ]
  },
  {
   "cell_type": "code",
   "execution_count": 684,
   "metadata": {},
   "outputs": [],
   "source": [
    "# jamstones.head()"
   ]
  },
  {
   "cell_type": "code",
   "execution_count": 685,
   "metadata": {},
   "outputs": [],
   "source": [
    "# jamstones.describe()"
   ]
  },
  {
   "cell_type": "code",
   "execution_count": 686,
   "metadata": {},
   "outputs": [],
   "source": [
    "# pd.set_option(\"display.max_rows\", None, \"display.max_columns\", None)"
   ]
  },
  {
   "cell_type": "markdown",
   "metadata": {},
   "source": [
    "Referring Sites"
   ]
  },
  {
   "cell_type": "markdown",
   "metadata": {},
   "source": [
    "Skeleton code"
   ]
  },
  {
   "cell_type": "markdown",
   "metadata": {},
   "source": [
    "FINAL OUTPUT FOR DATA IS:\n",
    "- [excel_sheet]row_list = list of lists [[site, revenue, sales count], [...]]\n",
    "- Combined list: combine_channels_list = list of lists [[site, revenue, sales count], [...]]\n",
    "\n",
    "PROBABLY WILL USE DASHBOARDCARD07"
   ]
  },
  {
   "cell_type": "markdown",
   "metadata": {},
   "source": [
    "Things that need to be done:\n",
    "- Combine all three channels (DONE)\n",
    "- Round to 2 d.p. (DONE)\n",
    "- Capitalise site name (DONE)\n",
    "- Add image of site (save for next time maybe)"
   ]
  },
  {
   "cell_type": "code",
   "execution_count": 687,
   "metadata": {},
   "outputs": [],
   "source": [
    "# referring_site = excel_sheet['referring_site']\n",
    "# referring_site.fillna(value=\"NA\", inplace=True)\n",
    "# sites = []\n",
    "# item_list = [\"www\", \"m\", \"l\", \"com\", \"org\", \"r\", \"sg\", \"lm\", \"live\", \"ee\", \"mail\", \"captcha\", \"search\", \"com/\"]\n",
    "# for index, value in referring_site.items():\n",
    "#     site_words_list = []\n",
    "#     if value == \"NA\":\n",
    "#         site_words_list.append(\"NA\")\n",
    "#     else:\n",
    "#         website_name = value.split(\"//\")[1]\n",
    "#         website_name_list1 = website_name.split(\".\")[0:1]\n",
    "#         website_name_list2 = website_name.split(\".\")[1]\n",
    "#         website_name_list2 = website_name_list2.split(\"/\")[0:1]\n",
    "#         for item in website_name_list1:\n",
    "#             if item in item_list:  \n",
    "#                 pass\n",
    "#             else:\n",
    "#                 site_words_list.append(item)\n",
    "#         for item in website_name_list2:\n",
    "#             if item in item_list:  \n",
    "#                 pass\n",
    "#             else:\n",
    "#                 site_words_list.append(item)\n",
    "#     if site_words_list == []:\n",
    "#         sites.append(\"NA\")\n",
    "#     else:\n",
    "#         sites.append(site_words_list[0])\n",
    "        \n",
    "# excel_sheet[\"referral_site_clean\"] = sites\n",
    "\n",
    "# count_list = []\n",
    "# for item in sites:\n",
    "#     count_list.append(1)\n",
    "# excel_sheet[\"count\"] = count_list\n",
    "\n",
    "# excel_sheet_revenue_by_sale = excel_sheet.groupby(\"referral_site_clean\")[\"count\"].sum()\n",
    "# excel_sheet_revenue_by_sale_df = pd.DataFrame(excel_sheet_revenue_by_sale)\n",
    "# excel_sheet_revenue_by_sale_df.sort_values(\"count\", ascending=False, inplace=True)\n",
    "# excel_sheet_revenue_by_sale_df.drop(\"NA\", inplace=True)\n",
    "\n",
    "# excel_sheet_revenue_by_channel = excel_sheet.groupby(\"referral_site_clean\")[\"total_price\"].sum()\n",
    "# excel_sheet_revenue_by_channel_df = pd.DataFrame(excel_sheet_revenue_by_channel)\n",
    "# excel_sheet_revenue_by_channel_df.sort_values(\"total_price\", ascending=False, inplace=True)\n",
    "# excel_sheet_revenue_by_channel_df.drop(\"NA\", inplace=True)\n",
    "\n",
    "# combined_excel_sheet_sites_df = pd.merge(excel_sheet_revenue_by_channel_df, excel_sheet_revenue_by_sale_df, on=\"referral_site_clean\")\n",
    "\n",
    "# row_list =[]\n",
    "  \n",
    "\n",
    "# for index, rows in combined_excel_sheet_sites_df.iterrows():\n",
    "#     my_list =[index, rows[\"total_price\"], rows[\"count\"]]\n",
    "#     row_list.append(my_list)\n",
    "\n",
    "# for row in row_list:\n",
    "#     row[0] = row[0].capitalize()\n",
    "#     row[1] = row[1].round(2)\n",
    "#     row[2] = int(row[2])\n",
    "# print(row_list)    "
   ]
  },
  {
   "cell_type": "markdown",
   "metadata": {},
   "source": [
    "Jamstones"
   ]
  },
  {
   "cell_type": "markdown",
   "metadata": {},
   "source": [
    "Revenue"
   ]
  },
  {
   "cell_type": "code",
   "execution_count": 688,
   "metadata": {},
   "outputs": [],
   "source": [
    "referring_site_jamstones = jamstones['referring_site']"
   ]
  },
  {
   "cell_type": "code",
   "execution_count": 689,
   "metadata": {},
   "outputs": [],
   "source": [
    "# referring_site_jamstones.unique()"
   ]
  },
  {
   "cell_type": "code",
   "execution_count": 690,
   "metadata": {},
   "outputs": [],
   "source": [
    "# referring_site_jamstones.value_counts()"
   ]
  },
  {
   "cell_type": "code",
   "execution_count": 691,
   "metadata": {},
   "outputs": [],
   "source": [
    "# referring_site_jamstones.describe()"
   ]
  },
  {
   "cell_type": "code",
   "execution_count": 692,
   "metadata": {},
   "outputs": [],
   "source": [
    "# jamstones['referring_site'].fillna(\"NA\")\n",
    "referring_site_jamstones.fillna(value=\"NA\", inplace=True)\n",
    "# referring_site_jamstones\n",
    "# jamstones['referring_site']"
   ]
  },
  {
   "cell_type": "code",
   "execution_count": 693,
   "metadata": {},
   "outputs": [],
   "source": [
    "# len(referring_site_jamstones)"
   ]
  },
  {
   "cell_type": "code",
   "execution_count": 694,
   "metadata": {},
   "outputs": [],
   "source": [
    "# referring_site_jamstones = referring_site_jamstones.dropna()\n",
    "\n",
    "sites = []\n",
    "item_list = [\"www\", \"m\", \"l\", \"com\", \"org\", \"r\", \"sg\", \"lm\", \"live\", \"ee\", \"mail\", \"captcha\", \"search\", \"com/\"]\n",
    "for index, value in referring_site_jamstones.items():\n",
    "    site_words_list = []\n",
    "    if value == \"NA\":\n",
    "        site_words_list.append(\"NA\")\n",
    "    else:\n",
    "        # print(value)\n",
    "        website_name = value.split(\"//\")[1]\n",
    "        # print(website_name)\n",
    "        website_name_list1 = website_name.split(\".\")[0:1]\n",
    "        # print(website_name_list1)\n",
    "        # print(website_name.split(\".\")[0])\n",
    "        website_name_list2 = website_name.split(\".\")[1]\n",
    "        # if len(website_name.split(\".\")) > 2:\n",
    "        #     website_name_list3 = website_name.split(\".\")[2:3]\n",
    "            # print(website_name.split(\".\")[2])\n",
    "        website_name_list2 = website_name_list2.split(\"/\")[0:1]\n",
    "        # print(website_name_list2)\n",
    "        for item in website_name_list1:\n",
    "            if item in item_list:  \n",
    "                pass\n",
    "                # print(sites)\n",
    "            else:\n",
    "                site_words_list.append(item)\n",
    "                # print(sites)\n",
    "        # print(website_name)\n",
    "        for item in website_name_list2:\n",
    "            if item in item_list:  \n",
    "                pass\n",
    "            else:\n",
    "                site_words_list.append(item)\n",
    "    # print(site_words_list)\n",
    "    if site_words_list == []:\n",
    "        sites.append(\"NA\")\n",
    "    else:\n",
    "        sites.append(site_words_list[0])\n",
    "\n",
    "# print(sites)\n",
    "# print(len(sites))\n"
   ]
  },
  {
   "cell_type": "code",
   "execution_count": 695,
   "metadata": {},
   "outputs": [],
   "source": [
    "# jamstones_sites_df = pd.DataFrame(sites)"
   ]
  },
  {
   "cell_type": "code",
   "execution_count": 696,
   "metadata": {},
   "outputs": [],
   "source": [
    "# jamstones_sites_df = jamstones_sites_df.value_counts()"
   ]
  },
  {
   "cell_type": "code",
   "execution_count": 697,
   "metadata": {},
   "outputs": [],
   "source": [
    "# print(jamstones_sites_df)"
   ]
  },
  {
   "cell_type": "code",
   "execution_count": 698,
   "metadata": {},
   "outputs": [],
   "source": [
    "jamstones[\"referral_site_clean\"] = sites"
   ]
  },
  {
   "cell_type": "code",
   "execution_count": 699,
   "metadata": {},
   "outputs": [],
   "source": [
    "count_list = []\n",
    "for item in sites:\n",
    "    count_list.append(1)\n",
    "jamstones[\"count\"] = count_list"
   ]
  },
  {
   "cell_type": "code",
   "execution_count": 700,
   "metadata": {},
   "outputs": [],
   "source": [
    "jamstones_revenue_by_sale = jamstones.groupby(\"referral_site_clean\")[\"count\"].sum()"
   ]
  },
  {
   "cell_type": "code",
   "execution_count": 701,
   "metadata": {},
   "outputs": [
    {
     "data": {
      "text/plain": [
       "referral_site_clean\n",
       "NA                      6598\n",
       "bing                       5\n",
       "drawnames                  2\n",
       "facebook                  69\n",
       "google                   580\n",
       "instagram                477\n",
       "jamstones                299\n",
       "jamstonesbynewagefsg      29\n",
       "linktr                     5\n",
       "newagefsg                  3\n",
       "omnibox                    2\n",
       "outlook                    2\n",
       "telegram                   5\n",
       "yahoo                      2\n",
       "Name: count, dtype: int64"
      ]
     },
     "execution_count": 701,
     "metadata": {},
     "output_type": "execute_result"
    }
   ],
   "source": [
    "jamstones_revenue_by_sale "
   ]
  },
  {
   "cell_type": "code",
   "execution_count": 702,
   "metadata": {},
   "outputs": [],
   "source": [
    "jamstones_revenue_by_sale_df = pd.DataFrame(jamstones_revenue_by_sale)"
   ]
  },
  {
   "cell_type": "code",
   "execution_count": 703,
   "metadata": {},
   "outputs": [],
   "source": [
    "jamstones_revenue_by_sale_df.sort_values(\"count\", ascending=False, inplace=True)"
   ]
  },
  {
   "cell_type": "code",
   "execution_count": 704,
   "metadata": {},
   "outputs": [
    {
     "data": {
      "text/html": [
       "<div>\n",
       "<style scoped>\n",
       "    .dataframe tbody tr th:only-of-type {\n",
       "        vertical-align: middle;\n",
       "    }\n",
       "\n",
       "    .dataframe tbody tr th {\n",
       "        vertical-align: top;\n",
       "    }\n",
       "\n",
       "    .dataframe thead th {\n",
       "        text-align: right;\n",
       "    }\n",
       "</style>\n",
       "<table border=\"1\" class=\"dataframe\">\n",
       "  <thead>\n",
       "    <tr style=\"text-align: right;\">\n",
       "      <th></th>\n",
       "      <th>count</th>\n",
       "    </tr>\n",
       "    <tr>\n",
       "      <th>referral_site_clean</th>\n",
       "      <th></th>\n",
       "    </tr>\n",
       "  </thead>\n",
       "  <tbody>\n",
       "    <tr>\n",
       "      <th>NA</th>\n",
       "      <td>6598</td>\n",
       "    </tr>\n",
       "    <tr>\n",
       "      <th>google</th>\n",
       "      <td>580</td>\n",
       "    </tr>\n",
       "    <tr>\n",
       "      <th>instagram</th>\n",
       "      <td>477</td>\n",
       "    </tr>\n",
       "    <tr>\n",
       "      <th>jamstones</th>\n",
       "      <td>299</td>\n",
       "    </tr>\n",
       "    <tr>\n",
       "      <th>facebook</th>\n",
       "      <td>69</td>\n",
       "    </tr>\n",
       "    <tr>\n",
       "      <th>jamstonesbynewagefsg</th>\n",
       "      <td>29</td>\n",
       "    </tr>\n",
       "    <tr>\n",
       "      <th>bing</th>\n",
       "      <td>5</td>\n",
       "    </tr>\n",
       "    <tr>\n",
       "      <th>linktr</th>\n",
       "      <td>5</td>\n",
       "    </tr>\n",
       "    <tr>\n",
       "      <th>telegram</th>\n",
       "      <td>5</td>\n",
       "    </tr>\n",
       "    <tr>\n",
       "      <th>newagefsg</th>\n",
       "      <td>3</td>\n",
       "    </tr>\n",
       "    <tr>\n",
       "      <th>drawnames</th>\n",
       "      <td>2</td>\n",
       "    </tr>\n",
       "    <tr>\n",
       "      <th>omnibox</th>\n",
       "      <td>2</td>\n",
       "    </tr>\n",
       "    <tr>\n",
       "      <th>outlook</th>\n",
       "      <td>2</td>\n",
       "    </tr>\n",
       "    <tr>\n",
       "      <th>yahoo</th>\n",
       "      <td>2</td>\n",
       "    </tr>\n",
       "  </tbody>\n",
       "</table>\n",
       "</div>"
      ],
      "text/plain": [
       "                      count\n",
       "referral_site_clean        \n",
       "NA                     6598\n",
       "google                  580\n",
       "instagram               477\n",
       "jamstones               299\n",
       "facebook                 69\n",
       "jamstonesbynewagefsg     29\n",
       "bing                      5\n",
       "linktr                    5\n",
       "telegram                  5\n",
       "newagefsg                 3\n",
       "drawnames                 2\n",
       "omnibox                   2\n",
       "outlook                   2\n",
       "yahoo                     2"
      ]
     },
     "execution_count": 704,
     "metadata": {},
     "output_type": "execute_result"
    }
   ],
   "source": [
    "jamstones_revenue_by_sale_df"
   ]
  },
  {
   "cell_type": "code",
   "execution_count": 705,
   "metadata": {},
   "outputs": [],
   "source": [
    "jamstones_revenue_by_sale_df.drop(\"NA\", inplace=True)"
   ]
  },
  {
   "cell_type": "code",
   "execution_count": 706,
   "metadata": {},
   "outputs": [
    {
     "data": {
      "text/html": [
       "<div>\n",
       "<style scoped>\n",
       "    .dataframe tbody tr th:only-of-type {\n",
       "        vertical-align: middle;\n",
       "    }\n",
       "\n",
       "    .dataframe tbody tr th {\n",
       "        vertical-align: top;\n",
       "    }\n",
       "\n",
       "    .dataframe thead th {\n",
       "        text-align: right;\n",
       "    }\n",
       "</style>\n",
       "<table border=\"1\" class=\"dataframe\">\n",
       "  <thead>\n",
       "    <tr style=\"text-align: right;\">\n",
       "      <th></th>\n",
       "      <th>count</th>\n",
       "    </tr>\n",
       "    <tr>\n",
       "      <th>referral_site_clean</th>\n",
       "      <th></th>\n",
       "    </tr>\n",
       "  </thead>\n",
       "  <tbody>\n",
       "    <tr>\n",
       "      <th>google</th>\n",
       "      <td>580</td>\n",
       "    </tr>\n",
       "    <tr>\n",
       "      <th>instagram</th>\n",
       "      <td>477</td>\n",
       "    </tr>\n",
       "    <tr>\n",
       "      <th>jamstones</th>\n",
       "      <td>299</td>\n",
       "    </tr>\n",
       "    <tr>\n",
       "      <th>facebook</th>\n",
       "      <td>69</td>\n",
       "    </tr>\n",
       "    <tr>\n",
       "      <th>jamstonesbynewagefsg</th>\n",
       "      <td>29</td>\n",
       "    </tr>\n",
       "    <tr>\n",
       "      <th>bing</th>\n",
       "      <td>5</td>\n",
       "    </tr>\n",
       "    <tr>\n",
       "      <th>linktr</th>\n",
       "      <td>5</td>\n",
       "    </tr>\n",
       "    <tr>\n",
       "      <th>telegram</th>\n",
       "      <td>5</td>\n",
       "    </tr>\n",
       "    <tr>\n",
       "      <th>newagefsg</th>\n",
       "      <td>3</td>\n",
       "    </tr>\n",
       "    <tr>\n",
       "      <th>drawnames</th>\n",
       "      <td>2</td>\n",
       "    </tr>\n",
       "    <tr>\n",
       "      <th>omnibox</th>\n",
       "      <td>2</td>\n",
       "    </tr>\n",
       "    <tr>\n",
       "      <th>outlook</th>\n",
       "      <td>2</td>\n",
       "    </tr>\n",
       "    <tr>\n",
       "      <th>yahoo</th>\n",
       "      <td>2</td>\n",
       "    </tr>\n",
       "  </tbody>\n",
       "</table>\n",
       "</div>"
      ],
      "text/plain": [
       "                      count\n",
       "referral_site_clean        \n",
       "google                  580\n",
       "instagram               477\n",
       "jamstones               299\n",
       "facebook                 69\n",
       "jamstonesbynewagefsg     29\n",
       "bing                      5\n",
       "linktr                    5\n",
       "telegram                  5\n",
       "newagefsg                 3\n",
       "drawnames                 2\n",
       "omnibox                   2\n",
       "outlook                   2\n",
       "yahoo                     2"
      ]
     },
     "execution_count": 706,
     "metadata": {},
     "output_type": "execute_result"
    }
   ],
   "source": [
    "jamstones_revenue_by_sale_df"
   ]
  },
  {
   "cell_type": "code",
   "execution_count": 707,
   "metadata": {},
   "outputs": [],
   "source": [
    "jamstones_revenue_by_channel = jamstones.groupby(\"referral_site_clean\")[\"total_price\"].sum()"
   ]
  },
  {
   "cell_type": "code",
   "execution_count": 708,
   "metadata": {},
   "outputs": [
    {
     "data": {
      "text/plain": [
       "referral_site_clean\n",
       "NA                      523235.96\n",
       "bing                       414.10\n",
       "drawnames                   85.80\n",
       "facebook                  7170.51\n",
       "google                   62687.10\n",
       "instagram                44201.10\n",
       "jamstones                25179.64\n",
       "jamstonesbynewagefsg      1306.50\n",
       "linktr                     397.10\n",
       "newagefsg                  487.40\n",
       "omnibox                    371.83\n",
       "outlook                    192.73\n",
       "telegram                   481.40\n",
       "yahoo                      257.80\n",
       "Name: total_price, dtype: float64"
      ]
     },
     "execution_count": 708,
     "metadata": {},
     "output_type": "execute_result"
    }
   ],
   "source": [
    "jamstones_revenue_by_channel"
   ]
  },
  {
   "cell_type": "markdown",
   "metadata": {},
   "source": [
    "Transform dataframe results to revenue list"
   ]
  },
  {
   "cell_type": "code",
   "execution_count": 709,
   "metadata": {},
   "outputs": [],
   "source": [
    "jamstones_revenue_by_channel_df = pd.DataFrame(jamstones_revenue_by_channel)"
   ]
  },
  {
   "cell_type": "code",
   "execution_count": 710,
   "metadata": {},
   "outputs": [],
   "source": [
    "jamstones_revenue_by_channel_df.sort_values(\"total_price\", ascending=False, inplace=True)"
   ]
  },
  {
   "cell_type": "code",
   "execution_count": 711,
   "metadata": {},
   "outputs": [
    {
     "data": {
      "text/html": [
       "<div>\n",
       "<style scoped>\n",
       "    .dataframe tbody tr th:only-of-type {\n",
       "        vertical-align: middle;\n",
       "    }\n",
       "\n",
       "    .dataframe tbody tr th {\n",
       "        vertical-align: top;\n",
       "    }\n",
       "\n",
       "    .dataframe thead th {\n",
       "        text-align: right;\n",
       "    }\n",
       "</style>\n",
       "<table border=\"1\" class=\"dataframe\">\n",
       "  <thead>\n",
       "    <tr style=\"text-align: right;\">\n",
       "      <th></th>\n",
       "      <th>total_price</th>\n",
       "    </tr>\n",
       "    <tr>\n",
       "      <th>referral_site_clean</th>\n",
       "      <th></th>\n",
       "    </tr>\n",
       "  </thead>\n",
       "  <tbody>\n",
       "    <tr>\n",
       "      <th>NA</th>\n",
       "      <td>523235.96</td>\n",
       "    </tr>\n",
       "    <tr>\n",
       "      <th>google</th>\n",
       "      <td>62687.10</td>\n",
       "    </tr>\n",
       "    <tr>\n",
       "      <th>instagram</th>\n",
       "      <td>44201.10</td>\n",
       "    </tr>\n",
       "    <tr>\n",
       "      <th>jamstones</th>\n",
       "      <td>25179.64</td>\n",
       "    </tr>\n",
       "    <tr>\n",
       "      <th>facebook</th>\n",
       "      <td>7170.51</td>\n",
       "    </tr>\n",
       "    <tr>\n",
       "      <th>jamstonesbynewagefsg</th>\n",
       "      <td>1306.50</td>\n",
       "    </tr>\n",
       "    <tr>\n",
       "      <th>newagefsg</th>\n",
       "      <td>487.40</td>\n",
       "    </tr>\n",
       "    <tr>\n",
       "      <th>telegram</th>\n",
       "      <td>481.40</td>\n",
       "    </tr>\n",
       "    <tr>\n",
       "      <th>bing</th>\n",
       "      <td>414.10</td>\n",
       "    </tr>\n",
       "    <tr>\n",
       "      <th>linktr</th>\n",
       "      <td>397.10</td>\n",
       "    </tr>\n",
       "    <tr>\n",
       "      <th>omnibox</th>\n",
       "      <td>371.83</td>\n",
       "    </tr>\n",
       "    <tr>\n",
       "      <th>yahoo</th>\n",
       "      <td>257.80</td>\n",
       "    </tr>\n",
       "    <tr>\n",
       "      <th>outlook</th>\n",
       "      <td>192.73</td>\n",
       "    </tr>\n",
       "    <tr>\n",
       "      <th>drawnames</th>\n",
       "      <td>85.80</td>\n",
       "    </tr>\n",
       "  </tbody>\n",
       "</table>\n",
       "</div>"
      ],
      "text/plain": [
       "                      total_price\n",
       "referral_site_clean              \n",
       "NA                      523235.96\n",
       "google                   62687.10\n",
       "instagram                44201.10\n",
       "jamstones                25179.64\n",
       "facebook                  7170.51\n",
       "jamstonesbynewagefsg      1306.50\n",
       "newagefsg                  487.40\n",
       "telegram                   481.40\n",
       "bing                       414.10\n",
       "linktr                     397.10\n",
       "omnibox                    371.83\n",
       "yahoo                      257.80\n",
       "outlook                    192.73\n",
       "drawnames                   85.80"
      ]
     },
     "execution_count": 711,
     "metadata": {},
     "output_type": "execute_result"
    }
   ],
   "source": [
    "jamstones_revenue_by_channel_df"
   ]
  },
  {
   "cell_type": "code",
   "execution_count": 712,
   "metadata": {},
   "outputs": [],
   "source": [
    "jamstones_revenue_by_channel_df.drop(\"NA\", inplace=True)"
   ]
  },
  {
   "cell_type": "code",
   "execution_count": null,
   "metadata": {},
   "outputs": [],
   "source": []
  },
  {
   "cell_type": "markdown",
   "metadata": {},
   "source": [
    "Transform dataframe results to list"
   ]
  },
  {
   "cell_type": "code",
   "execution_count": 713,
   "metadata": {},
   "outputs": [],
   "source": [
    "# jamstones_sites_df = pd.DataFrame(jamstones_sites_df)"
   ]
  },
  {
   "cell_type": "code",
   "execution_count": 714,
   "metadata": {},
   "outputs": [],
   "source": [
    "# jamstones_sites_df"
   ]
  },
  {
   "cell_type": "code",
   "execution_count": 715,
   "metadata": {},
   "outputs": [],
   "source": [
    "# jamstones_sites_df.drop(\"NA\", inplace=True)"
   ]
  },
  {
   "cell_type": "code",
   "execution_count": 716,
   "metadata": {},
   "outputs": [],
   "source": [
    "combined_jamstones_sites_df = pd.merge(jamstones_revenue_by_channel_df, jamstones_revenue_by_sale_df, on=\"referral_site_clean\")"
   ]
  },
  {
   "cell_type": "code",
   "execution_count": 717,
   "metadata": {},
   "outputs": [
    {
     "data": {
      "text/html": [
       "<div>\n",
       "<style scoped>\n",
       "    .dataframe tbody tr th:only-of-type {\n",
       "        vertical-align: middle;\n",
       "    }\n",
       "\n",
       "    .dataframe tbody tr th {\n",
       "        vertical-align: top;\n",
       "    }\n",
       "\n",
       "    .dataframe thead th {\n",
       "        text-align: right;\n",
       "    }\n",
       "</style>\n",
       "<table border=\"1\" class=\"dataframe\">\n",
       "  <thead>\n",
       "    <tr style=\"text-align: right;\">\n",
       "      <th></th>\n",
       "      <th>total_price</th>\n",
       "      <th>count</th>\n",
       "    </tr>\n",
       "    <tr>\n",
       "      <th>referral_site_clean</th>\n",
       "      <th></th>\n",
       "      <th></th>\n",
       "    </tr>\n",
       "  </thead>\n",
       "  <tbody>\n",
       "    <tr>\n",
       "      <th>google</th>\n",
       "      <td>62687.10</td>\n",
       "      <td>580</td>\n",
       "    </tr>\n",
       "    <tr>\n",
       "      <th>instagram</th>\n",
       "      <td>44201.10</td>\n",
       "      <td>477</td>\n",
       "    </tr>\n",
       "    <tr>\n",
       "      <th>jamstones</th>\n",
       "      <td>25179.64</td>\n",
       "      <td>299</td>\n",
       "    </tr>\n",
       "    <tr>\n",
       "      <th>facebook</th>\n",
       "      <td>7170.51</td>\n",
       "      <td>69</td>\n",
       "    </tr>\n",
       "    <tr>\n",
       "      <th>jamstonesbynewagefsg</th>\n",
       "      <td>1306.50</td>\n",
       "      <td>29</td>\n",
       "    </tr>\n",
       "    <tr>\n",
       "      <th>newagefsg</th>\n",
       "      <td>487.40</td>\n",
       "      <td>3</td>\n",
       "    </tr>\n",
       "    <tr>\n",
       "      <th>telegram</th>\n",
       "      <td>481.40</td>\n",
       "      <td>5</td>\n",
       "    </tr>\n",
       "    <tr>\n",
       "      <th>bing</th>\n",
       "      <td>414.10</td>\n",
       "      <td>5</td>\n",
       "    </tr>\n",
       "    <tr>\n",
       "      <th>linktr</th>\n",
       "      <td>397.10</td>\n",
       "      <td>5</td>\n",
       "    </tr>\n",
       "    <tr>\n",
       "      <th>omnibox</th>\n",
       "      <td>371.83</td>\n",
       "      <td>2</td>\n",
       "    </tr>\n",
       "    <tr>\n",
       "      <th>yahoo</th>\n",
       "      <td>257.80</td>\n",
       "      <td>2</td>\n",
       "    </tr>\n",
       "    <tr>\n",
       "      <th>outlook</th>\n",
       "      <td>192.73</td>\n",
       "      <td>2</td>\n",
       "    </tr>\n",
       "    <tr>\n",
       "      <th>drawnames</th>\n",
       "      <td>85.80</td>\n",
       "      <td>2</td>\n",
       "    </tr>\n",
       "  </tbody>\n",
       "</table>\n",
       "</div>"
      ],
      "text/plain": [
       "                      total_price  count\n",
       "referral_site_clean                     \n",
       "google                   62687.10    580\n",
       "instagram                44201.10    477\n",
       "jamstones                25179.64    299\n",
       "facebook                  7170.51     69\n",
       "jamstonesbynewagefsg      1306.50     29\n",
       "newagefsg                  487.40      3\n",
       "telegram                   481.40      5\n",
       "bing                       414.10      5\n",
       "linktr                     397.10      5\n",
       "omnibox                    371.83      2\n",
       "yahoo                      257.80      2\n",
       "outlook                    192.73      2\n",
       "drawnames                   85.80      2"
      ]
     },
     "execution_count": 717,
     "metadata": {},
     "output_type": "execute_result"
    }
   ],
   "source": [
    "combined_jamstones_sites_df"
   ]
  },
  {
   "cell_type": "code",
   "execution_count": 718,
   "metadata": {},
   "outputs": [],
   "source": [
    "# combined_jamstones_sites_df.to_numpy().tolist()"
   ]
  },
  {
   "cell_type": "code",
   "execution_count": 719,
   "metadata": {},
   "outputs": [
    {
     "name": "stdout",
     "output_type": "stream",
     "text": [
      "[['Google', 62687.1, 580], ['Instagram', 44201.1, 477], ['Jamstones', 25179.64, 299], ['Facebook', 7170.51, 69], ['Jamstonesbynewagefsg', 1306.5, 29], ['Newagefsg', 487.4, 3], ['Telegram', 481.4, 5], ['Bing', 414.1, 5], ['Linktr', 397.1, 5], ['Omnibox', 371.83, 2], ['Yahoo', 257.8, 2], ['Outlook', 192.73, 2], ['Drawnames', 85.8, 2]]\n"
     ]
    }
   ],
   "source": [
    "jamstones_row_list =[]\n",
    "  \n",
    "# Iterate over each row\n",
    "for index, rows in combined_jamstones_sites_df.iterrows():\n",
    "    \n",
    "    # print(index)\n",
    "    # print(rows)\n",
    "    my_list =[index, rows[\"total_price\"], rows[\"count\"]]\n",
    "    # print(my_list)\n",
    "    # append the list to the final list\n",
    "    jamstones_row_list.append(my_list)\n",
    "  \n",
    "for row in jamstones_row_list:\n",
    "    row[0] = row[0].capitalize()\n",
    "    row[1] = row[1].round(2)\n",
    "    row[2] = int(row[2])\n",
    "\n",
    "# Print the list\n",
    "print(jamstones_row_list)"
   ]
  },
  {
   "cell_type": "code",
   "execution_count": 720,
   "metadata": {},
   "outputs": [],
   "source": [
    "# jamstones_sites_df.columns = [\"number\"]"
   ]
  },
  {
   "cell_type": "code",
   "execution_count": 721,
   "metadata": {},
   "outputs": [],
   "source": [
    "# jamstones_sites_df"
   ]
  },
  {
   "cell_type": "code",
   "execution_count": 722,
   "metadata": {},
   "outputs": [],
   "source": [
    "# sites_number_list = jamstones_sites_df[\"number\"].tolist()"
   ]
  },
  {
   "cell_type": "code",
   "execution_count": 723,
   "metadata": {},
   "outputs": [],
   "source": [
    "# print(sites_number_list)"
   ]
  },
  {
   "cell_type": "code",
   "execution_count": 724,
   "metadata": {},
   "outputs": [],
   "source": [
    "# sites_unclean_list = jamstones_sites_df.index.values.tolist()\n",
    "# print(sites_unclean_list)"
   ]
  },
  {
   "cell_type": "code",
   "execution_count": 725,
   "metadata": {},
   "outputs": [],
   "source": [
    "# site_list = []\n",
    "# for item in sites_unclean_list:\n",
    "#     site_list.append(item[0])\n",
    "# print(site_list)\n",
    "\n"
   ]
  },
  {
   "cell_type": "markdown",
   "metadata": {},
   "source": [
    "lavval"
   ]
  },
  {
   "cell_type": "code",
   "execution_count": 726,
   "metadata": {},
   "outputs": [
    {
     "name": "stdout",
     "output_type": "stream",
     "text": [
      "[['Linktr', 2389.05, 19], ['Google', 2210.24, 27], ['Lavval', 1105.07, 18], ['Facebook', 776.25, 6], ['Newagefsg', 592.56, 5], ['Instagram', 275.51, 4]]\n"
     ]
    }
   ],
   "source": [
    "referring_site = lavval['referring_site']\n",
    "referring_site.fillna(value=\"NA\", inplace=True)\n",
    "sites = []\n",
    "item_list = [\"www\", \"m\", \"l\", \"com\", \"org\", \"r\", \"sg\", \"lm\", \"live\", \"ee\", \"mail\", \"captcha\", \"search\", \"com/\"]\n",
    "for index, value in referring_site.items():\n",
    "    site_words_list = []\n",
    "    if value == \"NA\":\n",
    "        site_words_list.append(\"NA\")\n",
    "    else:\n",
    "        website_name = value.split(\"//\")[1]\n",
    "        website_name_list1 = website_name.split(\".\")[0:1]\n",
    "        website_name_list2 = website_name.split(\".\")[1]\n",
    "        website_name_list2 = website_name_list2.split(\"/\")[0:1]\n",
    "        for item in website_name_list1:\n",
    "            if item in item_list:  \n",
    "                pass\n",
    "            else:\n",
    "                site_words_list.append(item)\n",
    "        for item in website_name_list2:\n",
    "            if item in item_list:  \n",
    "                pass\n",
    "            else:\n",
    "                site_words_list.append(item)\n",
    "    if site_words_list == []:\n",
    "        sites.append(\"NA\")\n",
    "    else:\n",
    "        sites.append(site_words_list[0])\n",
    "        \n",
    "lavval[\"referral_site_clean\"] = sites\n",
    "\n",
    "count_list = []\n",
    "for item in sites:\n",
    "    count_list.append(1)\n",
    "lavval[\"count\"] = count_list\n",
    "\n",
    "lavval_revenue_by_sale = lavval.groupby(\"referral_site_clean\")[\"count\"].sum()\n",
    "lavval_revenue_by_sale_df = pd.DataFrame(lavval_revenue_by_sale)\n",
    "lavval_revenue_by_sale_df.sort_values(\"count\", ascending=False, inplace=True)\n",
    "lavval_revenue_by_sale_df.drop(\"NA\", inplace=True)\n",
    "\n",
    "lavval_revenue_by_channel = lavval.groupby(\"referral_site_clean\")[\"total_price\"].sum()\n",
    "lavval_revenue_by_channel_df = pd.DataFrame(lavval_revenue_by_channel)\n",
    "lavval_revenue_by_channel_df.sort_values(\"total_price\", ascending=False, inplace=True)\n",
    "lavval_revenue_by_channel_df.drop(\"NA\", inplace=True)\n",
    "\n",
    "combined_lavval_sites_df = pd.merge(lavval_revenue_by_channel_df, lavval_revenue_by_sale_df, on=\"referral_site_clean\")\n",
    "\n",
    "lavval_row_list =[]\n",
    "  \n",
    "\n",
    "for index, rows in combined_lavval_sites_df.iterrows():\n",
    "    my_list =[index, rows[\"total_price\"], rows[\"count\"]]\n",
    "    lavval_row_list.append(my_list)\n",
    "\n",
    "for row in lavval_row_list:\n",
    "    row[0] = row[0].capitalize()\n",
    "    row[1] = row[1].round(2)\n",
    "    row[2] = int(row[2])\n",
    "print(lavval_row_list)"
   ]
  },
  {
   "cell_type": "code",
   "execution_count": 727,
   "metadata": {},
   "outputs": [],
   "source": [
    "# referring_site_lavval = lavval['referring_site']"
   ]
  },
  {
   "cell_type": "code",
   "execution_count": 728,
   "metadata": {},
   "outputs": [],
   "source": [
    "# referring_site_lavval.unique()"
   ]
  },
  {
   "cell_type": "code",
   "execution_count": 729,
   "metadata": {},
   "outputs": [],
   "source": [
    "# referring_site_lavval = referring_site_lavval.dropna()\n",
    "# sites = []\n",
    "# item_list = [\"www\", \"m\", \"l\", \"com\", \"org\", \"r\", \"sg\", \"lm\", \"live\", \"ee\", \"mail\", \"captcha\"]\n",
    "# for index, value in referring_site_lavval.items():\n",
    "#     # print(value)\n",
    "#     website_name = value.split(\"//\")[1]\n",
    "#     # print(website_name)\n",
    "#     website_name_list1 = website_name.split(\".\")[0:1]\n",
    "#     # print(website_name_list1)\n",
    "#     website_name_list2 = website_name.split(\".\")[1]\n",
    "#     website_name_list2 = website_name_list2.split(\"/\")[0:1]\n",
    "#     # print(website_name_list2)\n",
    "#     for item in website_name_list1:\n",
    "#         if item in item_list:  \n",
    "#             pass\n",
    "#             # print(sites)\n",
    "#         else:\n",
    "#             sites.append(item)\n",
    "#             # print(sites)\n",
    "#     # print(website_name)\n",
    "#     for item in website_name_list2:\n",
    "#         if item in item_list:  \n",
    "#             pass\n",
    "#         else:\n",
    "#             sites.append(item)\n",
    "\n",
    "# # print(sites)"
   ]
  },
  {
   "cell_type": "code",
   "execution_count": 730,
   "metadata": {},
   "outputs": [],
   "source": [
    "# lavval_sites_df = pd.DataFrame(sites)"
   ]
  },
  {
   "cell_type": "code",
   "execution_count": 731,
   "metadata": {},
   "outputs": [],
   "source": [
    "# lavval_sites_df.value_counts()"
   ]
  },
  {
   "cell_type": "code",
   "execution_count": 732,
   "metadata": {},
   "outputs": [],
   "source": [
    "# lavval_sites_series = lavval_sites_df.value_counts()\n",
    "# lavval_sites_df = pd.DataFrame(lavval_sites_series)\n",
    "# lavval_sites_df.columns = [\"number\"]\n",
    "\n",
    "# lavval_sites_number_list = lavval_sites_df[\"number\"].tolist()\n",
    "\n",
    "# lavval_sites_unclean_list = lavval_sites_df.index.values.tolist()\n",
    "\n",
    "# lavval_site_list = []\n",
    "# for item in lavval_sites_unclean_list:\n",
    "#     lavval_site_list.append(item[0])"
   ]
  },
  {
   "cell_type": "code",
   "execution_count": 733,
   "metadata": {},
   "outputs": [],
   "source": [
    "# print(lavval_site_list)"
   ]
  },
  {
   "cell_type": "code",
   "execution_count": 734,
   "metadata": {},
   "outputs": [],
   "source": [
    "# print(lavval_sites_number_list)"
   ]
  },
  {
   "cell_type": "markdown",
   "metadata": {},
   "source": [
    "newagefsg"
   ]
  },
  {
   "cell_type": "code",
   "execution_count": 735,
   "metadata": {},
   "outputs": [
    {
     "name": "stdout",
     "output_type": "stream",
     "text": [
      "[['Google', 756.3, 9], ['Linktr', 32.0, 1]]\n"
     ]
    }
   ],
   "source": [
    "referring_site = newagefsg['referring_site']\n",
    "referring_site.fillna(value=\"NA\", inplace=True)\n",
    "sites = []\n",
    "item_list = [\"www\", \"m\", \"l\", \"com\", \"org\", \"r\", \"sg\", \"lm\", \"live\", \"ee\", \"mail\", \"captcha\", \"search\", \"com/\"]\n",
    "for index, value in referring_site.items():\n",
    "    site_words_list = []\n",
    "    if value == \"NA\":\n",
    "        site_words_list.append(\"NA\")\n",
    "    else:\n",
    "        website_name = value.split(\"//\")[1]\n",
    "        website_name_list1 = website_name.split(\".\")[0:1]\n",
    "        website_name_list2 = website_name.split(\".\")[1]\n",
    "        website_name_list2 = website_name_list2.split(\"/\")[0:1]\n",
    "        for item in website_name_list1:\n",
    "            if item in item_list:  \n",
    "                pass\n",
    "            else:\n",
    "                site_words_list.append(item)\n",
    "        for item in website_name_list2:\n",
    "            if item in item_list:  \n",
    "                pass\n",
    "            else:\n",
    "                site_words_list.append(item)\n",
    "    if site_words_list == []:\n",
    "        sites.append(\"NA\")\n",
    "    else:\n",
    "        sites.append(site_words_list[0])\n",
    "        \n",
    "newagefsg[\"referral_site_clean\"] = sites\n",
    "\n",
    "count_list = []\n",
    "for item in sites:\n",
    "    count_list.append(1)\n",
    "newagefsg[\"count\"] = count_list\n",
    "\n",
    "newagefsg_revenue_by_sale = newagefsg.groupby(\"referral_site_clean\")[\"count\"].sum()\n",
    "newagefsg_revenue_by_sale_df = pd.DataFrame(newagefsg_revenue_by_sale)\n",
    "newagefsg_revenue_by_sale_df.sort_values(\"count\", ascending=False, inplace=True)\n",
    "newagefsg_revenue_by_sale_df.drop(\"NA\", inplace=True)\n",
    "\n",
    "newagefsg_revenue_by_channel = newagefsg.groupby(\"referral_site_clean\")[\"total_price\"].sum()\n",
    "newagefsg_revenue_by_channel_df = pd.DataFrame(newagefsg_revenue_by_channel)\n",
    "newagefsg_revenue_by_channel_df.sort_values(\"total_price\", ascending=False, inplace=True)\n",
    "newagefsg_revenue_by_channel_df.drop(\"NA\", inplace=True)\n",
    "\n",
    "combined_newagefsg_sites_df = pd.merge(newagefsg_revenue_by_channel_df, newagefsg_revenue_by_sale_df, on=\"referral_site_clean\")\n",
    "\n",
    "newagefsg_row_list =[]\n",
    "  \n",
    "\n",
    "for index, rows in combined_newagefsg_sites_df.iterrows():\n",
    "    my_list =[index, rows[\"total_price\"], rows[\"count\"]]\n",
    "    newagefsg_row_list.append(my_list)\n",
    "\n",
    "for row in newagefsg_row_list:\n",
    "    row[0] = row[0].capitalize()\n",
    "    row[1] = row[1].round(2)\n",
    "    row[2] = int(row[2])\n",
    "print(newagefsg_row_list)"
   ]
  },
  {
   "cell_type": "code",
   "execution_count": 736,
   "metadata": {},
   "outputs": [],
   "source": [
    "# referring_site_newagefsg = newagefsg['referring_site']"
   ]
  },
  {
   "cell_type": "code",
   "execution_count": 737,
   "metadata": {},
   "outputs": [],
   "source": [
    "# referring_site_newagefsg.unique()"
   ]
  },
  {
   "cell_type": "code",
   "execution_count": 738,
   "metadata": {},
   "outputs": [],
   "source": [
    "# referring_site_newagefsg = referring_site_newagefsg.dropna()\n",
    "# sites = []\n",
    "# item_list = [\"www\", \"m\", \"l\", \"com\", \"org\", \"r\", \"sg\", \"lm\", \"live\", \"ee\", \"mail\", \"captcha\"]\n",
    "# for index, value in referring_site_newagefsg.items():\n",
    "#     # print(value)\n",
    "#     website_name = value.split(\"//\")[1]\n",
    "#     # print(website_name)\n",
    "#     website_name_list1 = website_name.split(\".\")[0:1]\n",
    "#     # print(website_name_list1)\n",
    "#     website_name_list2 = website_name.split(\".\")[1]\n",
    "#     website_name_list2 = website_name_list2.split(\"/\")[0:1]\n",
    "#     # print(website_name_list2)\n",
    "#     for item in website_name_list1:\n",
    "#         if item in item_list:  \n",
    "#             pass\n",
    "#             # print(sites)\n",
    "#         else:\n",
    "#             sites.append(item)\n",
    "#             # print(sites)\n",
    "#     # print(website_name)\n",
    "#     for item in website_name_list2:\n",
    "#         if item in item_list:  \n",
    "#             pass\n",
    "#         else:\n",
    "#             sites.append(item)\n",
    "\n",
    "# # print(sites)"
   ]
  },
  {
   "cell_type": "code",
   "execution_count": 739,
   "metadata": {},
   "outputs": [],
   "source": [
    "# newagefsg_sites_df = pd.DataFrame(sites)"
   ]
  },
  {
   "cell_type": "code",
   "execution_count": 740,
   "metadata": {},
   "outputs": [],
   "source": [
    "# newagefsg_sites_df.value_counts()"
   ]
  },
  {
   "cell_type": "code",
   "execution_count": 741,
   "metadata": {},
   "outputs": [],
   "source": [
    "# newagefsg_sites_series = newagefsg_sites_df.value_counts()\n",
    "# newagefsg_sites_df = pd.DataFrame(newagefsg_sites_series)\n",
    "# newagefsg_sites_df.columns = [\"number\"]\n",
    "\n",
    "# newagefsg_sites_number_list = newagefsg_sites_df[\"number\"].tolist()\n",
    "\n",
    "# newagefsg_sites_unclean_list = newagefsg_sites_df.index.values.tolist()\n",
    "\n",
    "# newagefsg_site_list = []\n",
    "# for item in newagefsg_sites_unclean_list:\n",
    "#     newagefsg_site_list.append(item[0])"
   ]
  },
  {
   "cell_type": "code",
   "execution_count": 742,
   "metadata": {},
   "outputs": [],
   "source": [
    "# print(newagefsg_site_list)"
   ]
  },
  {
   "cell_type": "code",
   "execution_count": 743,
   "metadata": {},
   "outputs": [],
   "source": [
    "# print(newagefsg_sites_number_list)"
   ]
  },
  {
   "cell_type": "markdown",
   "metadata": {},
   "source": [
    "Try to combine all channels"
   ]
  },
  {
   "cell_type": "code",
   "execution_count": 744,
   "metadata": {},
   "outputs": [],
   "source": [
    "combine_channels_list = jamstones_row_list.copy()"
   ]
  },
  {
   "cell_type": "code",
   "execution_count": 745,
   "metadata": {},
   "outputs": [
    {
     "name": "stdout",
     "output_type": "stream",
     "text": [
      "[['Google', 62687.1, 580], ['Instagram', 44201.1, 477], ['Jamstones', 25179.64, 299], ['Facebook', 7170.51, 69], ['Jamstonesbynewagefsg', 1306.5, 29], ['Newagefsg', 487.4, 3], ['Telegram', 481.4, 5], ['Bing', 414.1, 5], ['Linktr', 397.1, 5], ['Omnibox', 371.83, 2], ['Yahoo', 257.8, 2], ['Outlook', 192.73, 2], ['Drawnames', 85.8, 2]]\n"
     ]
    }
   ],
   "source": [
    "print(combine_channels_list)"
   ]
  },
  {
   "cell_type": "code",
   "execution_count": 746,
   "metadata": {},
   "outputs": [
    {
     "name": "stdout",
     "output_type": "stream",
     "text": [
      "[['Google', 65653.64, 616], ['Instagram', 44476.61, 481], ['Jamstones', 25179.64, 299], ['Facebook', 7946.76, 75], ['Jamstonesbynewagefsg', 1306.5, 29], ['Newagefsg', 1079.96, 8], ['Telegram', 481.4, 5], ['Bing', 414.1, 5], ['Linktr', 2818.15, 25], ['Omnibox', 371.83, 2], ['Yahoo', 257.8, 2], ['Outlook', 192.73, 2], ['Drawnames', 85.8, 2], ['Lavval', 2210.14, 36]]\n"
     ]
    }
   ],
   "source": [
    "channels_in_list = []\n",
    "for channel in combine_channels_list:\n",
    "    channels_in_list.append(channel[0])\n",
    "for row in lavval_row_list:\n",
    "    if row[0] not in channels_in_list:\n",
    "        combine_channels_list.append(row)\n",
    "    for channel in combine_channels_list:\n",
    "        if (row[0] == channel[0]):\n",
    "            channel[1] += row[1]\n",
    "            channel[2] += row[2]\n",
    "\n",
    "channels_in_list = []\n",
    "for channel in combine_channels_list:\n",
    "    channels_in_list.append(channel[0])\n",
    "for row in newagefsg_row_list:\n",
    "    if row[0] not in channels_in_list:\n",
    "        combine_channels_list.append(row)\n",
    "    for channel in combine_channels_list:\n",
    "        if (row[0] == channel[0]):\n",
    "            channel[1] += row[1]\n",
    "            channel[2] += row[2]\n",
    "print(combine_channels_list)    "
   ]
  },
  {
   "cell_type": "markdown",
   "metadata": {},
   "source": [
    "Peak period for purchases"
   ]
  },
  {
   "cell_type": "markdown",
   "metadata": {},
   "source": [
    "Skeleton data"
   ]
  },
  {
   "cell_type": "markdown",
   "metadata": {},
   "source": [
    "FINAL OUTPUT FOR DATA IS:\n",
    "- date_list (the dates)\n",
    "- dates_number_list (the occurence of each dates)\n",
    "\n",
    "PROBABLY WILL USE LINE CHART 02"
   ]
  },
  {
   "cell_type": "code",
   "execution_count": 747,
   "metadata": {},
   "outputs": [],
   "source": [
    "# date_col = excel_sheet['created_at']\n",
    "# date_col = date_col.dropna()\n",
    "# dates = []\n",
    "# for index, value in date_col.items():\n",
    "#     # print(value)\n",
    "#     date = value.split(\"T\")[0]\n",
    "#     dates.append(date)\n",
    "# # print(dates)\n",
    "# dates_df = pd.DataFrame(dates)\n",
    "# dates_df.value_counts().sort_index()\n",
    "\n",
    "# dates_series = dates_df.value_counts().sort_index()\n",
    "# dates_df = pd.DataFrame(dates_series)\n",
    "# dates_df.columns = [\"number\"]\n",
    "\n",
    "# dates_number_list = dates_df[\"number\"].tolist()\n",
    "\n",
    "# dates_unclean_list = dates_df.index.values.tolist()\n",
    "\n",
    "# dates_list = []\n",
    "# for item in dates_unclean_list:\n",
    "#     dates_list.append(item[0])"
   ]
  },
  {
   "cell_type": "markdown",
   "metadata": {},
   "source": [
    "jamstones"
   ]
  },
  {
   "cell_type": "code",
   "execution_count": 748,
   "metadata": {},
   "outputs": [],
   "source": [
    "date_jamstones = jamstones['created_at']"
   ]
  },
  {
   "cell_type": "code",
   "execution_count": 749,
   "metadata": {},
   "outputs": [
    {
     "data": {
      "text/plain": [
       "0       2021-12-28T02:19:52+08:00\n",
       "1       2021-12-28T02:04:06+08:00\n",
       "2       2021-12-27T22:58:26+08:00\n",
       "3       2021-12-27T22:35:17+08:00\n",
       "4       2021-12-27T21:34:01+08:00\n",
       "                  ...            \n",
       "8073    2020-07-24T19:24:56+08:00\n",
       "8074    2020-07-24T18:45:44+08:00\n",
       "8075    2020-07-24T16:36:08+08:00\n",
       "8076    2020-07-24T16:30:54+08:00\n",
       "8077    2020-07-24T16:27:46+08:00\n",
       "Name: created_at, Length: 8078, dtype: object"
      ]
     },
     "execution_count": 749,
     "metadata": {},
     "output_type": "execute_result"
    }
   ],
   "source": [
    "date_jamstones"
   ]
  },
  {
   "cell_type": "code",
   "execution_count": 750,
   "metadata": {},
   "outputs": [],
   "source": [
    "date_jamstones = date_jamstones.dropna()\n",
    "dates = []\n",
    "for index, value in date_jamstones.items():\n",
    "    # print(value)\n",
    "    date = value.split(\"T\")[0]\n",
    "    dates.append(date)\n",
    "# print(dates)"
   ]
  },
  {
   "cell_type": "code",
   "execution_count": 751,
   "metadata": {},
   "outputs": [],
   "source": [
    "jamstones_dates_df = pd.DataFrame(dates)"
   ]
  },
  {
   "cell_type": "code",
   "execution_count": 752,
   "metadata": {},
   "outputs": [
    {
     "data": {
      "text/plain": [
       "2020-07-24    12\n",
       "2020-07-25    19\n",
       "2020-07-26     8\n",
       "2020-07-27    10\n",
       "2020-07-28     4\n",
       "              ..\n",
       "2021-12-24     9\n",
       "2021-12-25    10\n",
       "2021-12-26    64\n",
       "2021-12-27    23\n",
       "2021-12-28     2\n",
       "Length: 518, dtype: int64"
      ]
     },
     "execution_count": 752,
     "metadata": {},
     "output_type": "execute_result"
    }
   ],
   "source": [
    "jamstones_dates_df.value_counts().sort_index()"
   ]
  },
  {
   "cell_type": "code",
   "execution_count": 753,
   "metadata": {},
   "outputs": [],
   "source": [
    "jamstones_dates_series = jamstones_dates_df.value_counts().sort_index()\n",
    "jamstones_dates_df = pd.DataFrame(jamstones_dates_series)\n",
    "jamstones_dates_df.columns = [\"number\"]\n",
    "\n",
    "jamstones_dates_number_list = jamstones_dates_df[\"number\"].tolist()\n",
    "\n",
    "jamstones_dates_unclean_list = jamstones_dates_df.index.values.tolist()\n",
    "\n",
    "jamstones_dates_list = []\n",
    "for item in jamstones_dates_unclean_list:\n",
    "    jamstones_dates_list.append(item[0])"
   ]
  },
  {
   "cell_type": "code",
   "execution_count": 754,
   "metadata": {},
   "outputs": [
    {
     "name": "stdout",
     "output_type": "stream",
     "text": [
      "[12, 19, 8, 10, 4, 8, 1, 1, 12, 14, 7, 2, 3, 8, 21, 10, 43, 75, 4, 2, 3, 10, 18, 11, 2, 11, 3, 7, 3, 3, 5, 2, 2, 3, 3, 1, 17, 14, 10, 4, 5, 5, 2, 16, 11, 5, 2, 12, 9, 6, 9, 18, 4, 2, 3, 1, 3, 6, 11, 4, 3, 7, 2, 3, 5, 9, 9, 3, 7, 5, 7, 14, 8, 17, 9, 17, 3, 2, 22, 64, 13, 7, 9, 7, 7, 6, 9, 7, 1, 3, 7, 21, 29, 8, 3, 12, 12, 4, 4, 7, 16, 7, 10, 7, 3, 18, 13, 16, 14, 41, 9, 7, 2, 6, 3, 3, 3, 5, 1, 3, 11, 9, 3, 6, 8, 14, 7, 9, 14, 8, 14, 13, 4, 7, 8, 10, 4, 13, 21, 13, 14, 20, 13, 14, 5, 19, 17, 14, 8, 18, 6, 15, 6, 2, 4, 7, 5, 10, 9, 23, 10, 9, 8, 17, 13, 14, 9, 7, 8, 10, 9, 9, 4, 5, 6, 8, 3, 10, 4, 4, 3, 1, 5, 2, 5, 8, 4, 9, 6, 4, 4, 2, 4, 2, 5, 8, 4, 7, 1, 2, 3, 3, 9, 15, 11, 12, 7, 8, 5, 6, 8, 7, 7, 13, 8, 15, 26, 7, 7, 9, 6, 16, 12, 10, 4, 14, 5, 8, 8, 9, 8, 10, 9, 10, 9, 8, 2, 6, 7, 8, 6, 2, 4, 8, 10, 11, 12, 6, 10, 3, 2, 8, 19, 10, 26, 8, 4, 7, 36, 15, 3, 2, 3, 1, 1, 2, 1, 6, 2, 4, 7, 5, 4, 4, 8, 6, 10, 5, 12, 12, 18, 16, 10, 6, 8, 5, 2, 3, 4, 6, 8, 1, 1, 5, 11, 7, 3, 5, 10, 23, 11, 7, 13, 7, 5, 3, 2, 3, 4, 11, 20, 13, 8, 5, 4, 1, 3, 28, 7, 15, 11, 11, 10, 5, 6, 15, 38, 16, 4, 10, 2, 7, 9, 4, 5, 3, 4, 2, 1, 1, 13, 8, 3, 9, 4, 1, 7, 2, 11, 6, 4, 7, 8, 9, 6, 4, 9, 11, 7, 5, 13, 27, 18, 10, 20, 14, 25, 46, 13, 2, 12, 26, 21, 18, 18, 38, 36, 22, 5, 3, 6, 10, 4, 5, 3, 6, 4, 5, 6, 124, 9, 6, 9, 13, 5, 13, 167, 10, 14, 10, 16, 5, 9, 236, 11, 11, 11, 123, 15, 11, 121, 6, 4, 5, 4, 6, 5, 167, 11, 8, 4, 4, 5, 131, 11, 11, 4, 10, 9, 11, 9, 148, 7, 4, 12, 16, 11, 5, 177, 26, 15, 44, 53, 19, 26, 86, 16, 15, 10, 12, 15, 13, 100, 47, 25, 15, 15, 14, 15, 82, 28, 21, 16, 12, 18, 10, 106, 21, 3, 11, 203, 39, 12, 12, 12, 9, 8, 6, 6, 9, 94, 26, 6, 8, 17, 9, 11, 117, 82, 10, 29, 25, 20, 20, 119, 42, 27, 22, 77, 37, 31, 166, 111, 32, 23, 19, 28, 22, 96, 37, 101, 11, 13, 9, 10, 64, 23, 2]\n"
     ]
    }
   ],
   "source": [
    "print(jamstones_dates_number_list)"
   ]
  },
  {
   "cell_type": "code",
   "execution_count": 755,
   "metadata": {},
   "outputs": [
    {
     "name": "stdout",
     "output_type": "stream",
     "text": [
      "['2020-07-24', '2020-07-25', '2020-07-26', '2020-07-27', '2020-07-28', '2020-07-29', '2020-07-30', '2020-07-31', '2020-08-01', '2020-08-02', '2020-08-03', '2020-08-04', '2020-08-05', '2020-08-06', '2020-08-07', '2020-08-08', '2020-08-09', '2020-08-10', '2020-08-11', '2020-08-12', '2020-08-13', '2020-08-14', '2020-08-15', '2020-08-16', '2020-08-17', '2020-08-18', '2020-08-19', '2020-08-20', '2020-08-21', '2020-08-22', '2020-08-23', '2020-08-24', '2020-08-25', '2020-08-26', '2020-08-27', '2020-08-28', '2020-08-29', '2020-08-30', '2020-08-31', '2020-09-01', '2020-09-02', '2020-09-03', '2020-09-04', '2020-09-05', '2020-09-06', '2020-09-07', '2020-09-08', '2020-09-09', '2020-09-10', '2020-09-11', '2020-09-12', '2020-09-13', '2020-09-14', '2020-09-15', '2020-09-16', '2020-09-17', '2020-09-18', '2020-09-19', '2020-09-20', '2020-09-21', '2020-09-22', '2020-09-23', '2020-09-24', '2020-09-25', '2020-09-26', '2020-09-27', '2020-09-28', '2020-09-29', '2020-09-30', '2020-10-01', '2020-10-02', '2020-10-03', '2020-10-04', '2020-10-05', '2020-10-06', '2020-10-07', '2020-10-08', '2020-10-09', '2020-10-10', '2020-10-11', '2020-10-12', '2020-10-13', '2020-10-14', '2020-10-15', '2020-10-16', '2020-10-17', '2020-10-18', '2020-10-19', '2020-10-20', '2020-10-22', '2020-10-23', '2020-10-24', '2020-10-25', '2020-10-26', '2020-10-27', '2020-10-28', '2020-10-29', '2020-10-30', '2020-10-31', '2020-11-01', '2020-11-02', '2020-11-03', '2020-11-04', '2020-11-05', '2020-11-06', '2020-11-07', '2020-11-08', '2020-11-09', '2020-11-10', '2020-11-11', '2020-11-12', '2020-11-13', '2020-11-14', '2020-11-15', '2020-11-16', '2020-11-17', '2020-11-18', '2020-11-19', '2020-11-20', '2020-11-21', '2020-11-22', '2020-11-23', '2020-11-24', '2020-11-25', '2020-11-26', '2020-11-27', '2020-11-28', '2020-11-29', '2020-11-30', '2020-12-01', '2020-12-02', '2020-12-03', '2020-12-04', '2020-12-05', '2020-12-06', '2020-12-07', '2020-12-08', '2020-12-09', '2020-12-10', '2020-12-11', '2020-12-12', '2020-12-13', '2020-12-14', '2020-12-15', '2020-12-16', '2020-12-17', '2020-12-18', '2020-12-19', '2020-12-20', '2020-12-21', '2020-12-22', '2020-12-23', '2020-12-24', '2020-12-25', '2020-12-26', '2020-12-27', '2020-12-28', '2020-12-29', '2020-12-30', '2020-12-31', '2021-01-01', '2021-01-02', '2021-01-03', '2021-01-04', '2021-01-05', '2021-01-06', '2021-01-07', '2021-01-08', '2021-01-09', '2021-01-10', '2021-01-11', '2021-01-12', '2021-01-13', '2021-01-14', '2021-01-15', '2021-01-16', '2021-01-17', '2021-01-18', '2021-01-19', '2021-01-21', '2021-01-23', '2021-01-24', '2021-01-25', '2021-01-26', '2021-01-27', '2021-01-28', '2021-01-29', '2021-01-30', '2021-01-31', '2021-02-01', '2021-02-02', '2021-02-03', '2021-02-04', '2021-02-05', '2021-02-06', '2021-02-07', '2021-02-08', '2021-02-09', '2021-02-10', '2021-02-11', '2021-02-12', '2021-02-13', '2021-02-14', '2021-02-15', '2021-02-16', '2021-02-17', '2021-02-18', '2021-02-19', '2021-02-20', '2021-02-21', '2021-02-22', '2021-02-23', '2021-02-24', '2021-02-25', '2021-02-26', '2021-02-27', '2021-02-28', '2021-03-01', '2021-03-02', '2021-03-03', '2021-03-04', '2021-03-05', '2021-03-06', '2021-03-07', '2021-03-08', '2021-03-09', '2021-03-10', '2021-03-11', '2021-03-12', '2021-03-13', '2021-03-14', '2021-03-15', '2021-03-16', '2021-03-17', '2021-03-18', '2021-03-19', '2021-03-20', '2021-03-21', '2021-03-22', '2021-03-23', '2021-03-24', '2021-03-25', '2021-03-26', '2021-03-27', '2021-03-28', '2021-03-29', '2021-03-30', '2021-03-31', '2021-04-01', '2021-04-02', '2021-04-03', '2021-04-04', '2021-04-05', '2021-04-06', '2021-04-07', '2021-04-08', '2021-04-09', '2021-04-10', '2021-04-11', '2021-04-12', '2021-04-13', '2021-04-14', '2021-04-15', '2021-04-17', '2021-04-18', '2021-04-19', '2021-04-20', '2021-04-21', '2021-04-22', '2021-04-23', '2021-04-24', '2021-04-25', '2021-04-26', '2021-04-27', '2021-04-28', '2021-04-29', '2021-04-30', '2021-05-01', '2021-05-02', '2021-05-03', '2021-05-04', '2021-05-05', '2021-05-06', '2021-05-07', '2021-05-08', '2021-05-09', '2021-05-10', '2021-05-11', '2021-05-12', '2021-05-13', '2021-05-14', '2021-05-15', '2021-05-16', '2021-05-17', '2021-05-18', '2021-05-19', '2021-05-20', '2021-05-21', '2021-05-22', '2021-05-23', '2021-05-24', '2021-05-25', '2021-05-26', '2021-05-27', '2021-05-28', '2021-05-29', '2021-05-30', '2021-05-31', '2021-06-02', '2021-06-03', '2021-06-04', '2021-06-05', '2021-06-06', '2021-06-07', '2021-06-08', '2021-06-09', '2021-06-10', '2021-06-11', '2021-06-12', '2021-06-13', '2021-06-14', '2021-06-15', '2021-06-16', '2021-06-17', '2021-06-18', '2021-06-19', '2021-06-20', '2021-06-21', '2021-06-22', '2021-06-23', '2021-06-24', '2021-06-25', '2021-06-26', '2021-06-27', '2021-06-28', '2021-06-29', '2021-06-30', '2021-07-01', '2021-07-02', '2021-07-03', '2021-07-04', '2021-07-05', '2021-07-06', '2021-07-07', '2021-07-08', '2021-07-09', '2021-07-10', '2021-07-11', '2021-07-12', '2021-07-13', '2021-07-14', '2021-07-15', '2021-07-16', '2021-07-17', '2021-07-18', '2021-07-19', '2021-07-20', '2021-07-21', '2021-07-22', '2021-07-23', '2021-07-24', '2021-07-25', '2021-07-26', '2021-07-27', '2021-07-28', '2021-07-29', '2021-07-30', '2021-07-31', '2021-08-01', '2021-08-02', '2021-08-03', '2021-08-04', '2021-08-05', '2021-08-06', '2021-08-07', '2021-08-08', '2021-08-09', '2021-08-10', '2021-08-11', '2021-08-12', '2021-08-13', '2021-08-14', '2021-08-15', '2021-08-16', '2021-08-17', '2021-08-18', '2021-08-19', '2021-08-20', '2021-08-21', '2021-08-22', '2021-08-23', '2021-08-24', '2021-08-25', '2021-08-26', '2021-08-27', '2021-08-28', '2021-08-29', '2021-08-30', '2021-08-31', '2021-09-01', '2021-09-02', '2021-09-03', '2021-09-04', '2021-09-05', '2021-09-06', '2021-09-07', '2021-09-08', '2021-09-09', '2021-09-10', '2021-09-11', '2021-09-12', '2021-09-13', '2021-09-14', '2021-09-15', '2021-09-16', '2021-09-17', '2021-09-18', '2021-09-19', '2021-09-20', '2021-09-21', '2021-09-22', '2021-09-23', '2021-09-24', '2021-09-25', '2021-09-26', '2021-09-27', '2021-09-28', '2021-09-29', '2021-09-30', '2021-10-01', '2021-10-02', '2021-10-03', '2021-10-04', '2021-10-05', '2021-10-06', '2021-10-07', '2021-10-08', '2021-10-09', '2021-10-10', '2021-10-11', '2021-10-12', '2021-10-13', '2021-10-14', '2021-10-15', '2021-10-16', '2021-10-17', '2021-10-18', '2021-10-19', '2021-10-20', '2021-10-21', '2021-10-22', '2021-10-23', '2021-10-24', '2021-10-25', '2021-10-26', '2021-10-27', '2021-10-28', '2021-10-29', '2021-10-30', '2021-10-31', '2021-11-01', '2021-11-02', '2021-11-03', '2021-11-04', '2021-11-05', '2021-11-06', '2021-11-07', '2021-11-08', '2021-11-09', '2021-11-10', '2021-11-11', '2021-11-12', '2021-11-13', '2021-11-14', '2021-11-15', '2021-11-16', '2021-11-17', '2021-11-18', '2021-11-19', '2021-11-20', '2021-11-21', '2021-11-22', '2021-11-23', '2021-11-24', '2021-11-25', '2021-11-26', '2021-11-27', '2021-11-28', '2021-11-29', '2021-11-30', '2021-12-01', '2021-12-02', '2021-12-03', '2021-12-04', '2021-12-05', '2021-12-06', '2021-12-07', '2021-12-08', '2021-12-09', '2021-12-10', '2021-12-11', '2021-12-12', '2021-12-13', '2021-12-14', '2021-12-15', '2021-12-16', '2021-12-17', '2021-12-18', '2021-12-19', '2021-12-20', '2021-12-21', '2021-12-22', '2021-12-23', '2021-12-24', '2021-12-25', '2021-12-26', '2021-12-27', '2021-12-28']\n"
     ]
    }
   ],
   "source": [
    "print(jamstones_dates_list)"
   ]
  },
  {
   "cell_type": "markdown",
   "metadata": {},
   "source": [
    "lavval"
   ]
  },
  {
   "cell_type": "code",
   "execution_count": 756,
   "metadata": {},
   "outputs": [],
   "source": [
    "date_col_lavval = lavval['created_at']\n",
    "date_col_lavval = date_col_lavval.dropna()\n",
    "dates = []\n",
    "for index, value in date_col_lavval.items():\n",
    "    # print(value)\n",
    "    date = value.split(\"T\")[0]\n",
    "    dates.append(date)\n",
    "# print(dates)\n",
    "dates_df_lavval = pd.DataFrame(dates)\n",
    "dates_df_lavval.value_counts().sort_index()\n",
    "\n",
    "dates_series_lavval = dates_df_lavval.value_counts().sort_index()\n",
    "dates_df_lavval = pd.DataFrame(dates_series_lavval)\n",
    "dates_df_lavval.columns = [\"number\"]\n",
    "\n",
    "dates_number_list_lavval = dates_df_lavval[\"number\"].tolist()\n",
    "\n",
    "dates_unclean_list_lavval = dates_df_lavval.index.values.tolist()\n",
    "\n",
    "dates_list_lavval = []\n",
    "for item in dates_unclean_list_lavval:\n",
    "    dates_list_lavval.append(item[0])"
   ]
  },
  {
   "cell_type": "code",
   "execution_count": 757,
   "metadata": {},
   "outputs": [
    {
     "name": "stdout",
     "output_type": "stream",
     "text": [
      "[8, 9, 2, 1, 4, 3, 3, 3, 1, 1, 1, 23, 8, 1, 1, 1, 3, 1, 1, 2, 1, 1, 1, 1, 1, 1, 8, 22, 4, 3, 1, 1, 1, 3, 3, 1, 2, 3, 3, 3, 3, 2, 4, 2, 1, 4, 4, 2, 2, 1, 3, 1, 1, 3, 3, 4, 1, 1, 1, 3, 1, 1, 1, 2, 2, 2, 3, 3, 1, 3, 5, 3, 2, 3, 1, 5, 2, 3]\n"
     ]
    }
   ],
   "source": [
    "print(dates_number_list_lavval)"
   ]
  },
  {
   "cell_type": "code",
   "execution_count": 758,
   "metadata": {},
   "outputs": [
    {
     "name": "stdout",
     "output_type": "stream",
     "text": [
      "['2021-10-20', '2021-10-21', '2021-10-22', '2021-10-23', '2021-10-25', '2021-10-26', '2021-10-27', '2021-10-28', '2021-10-29', '2021-11-01', '2021-11-02', '2021-11-03', '2021-11-04', '2021-11-05', '2021-11-08', '2021-11-09', '2021-11-12', '2021-11-13', '2021-11-14', '2021-11-15', '2021-11-16', '2021-11-17', '2021-11-21', '2021-11-22', '2021-11-23', '2021-11-24', '2021-11-25', '2021-11-26', '2021-11-27', '2021-11-28', '2021-11-29', '2021-11-30', '2021-12-01', '2021-12-02', '2021-12-04', '2021-12-06', '2021-12-07', '2021-12-08', '2021-12-09', '2021-12-10', '2021-12-11', '2021-12-12', '2021-12-13', '2021-12-14', '2021-12-15', '2021-12-16', '2021-12-17', '2021-12-18', '2021-12-19', '2021-12-20', '2021-12-21', '2021-12-22', '2021-12-23', '2021-12-24', '2021-12-25', '2021-12-26', '2021-12-27', '2021-12-28', '2021-12-29', '2021-12-31', '2022-01-01', '2022-01-03', '2022-01-04', '2022-01-05', '2022-01-06', '2022-01-07', '2022-01-08', '2022-01-09', '2022-01-10', '2022-01-12', '2022-01-13', '2022-01-15', '2022-01-16', '2022-01-17', '2022-01-18', '2022-01-19', '2022-01-20', '2022-01-21']\n"
     ]
    }
   ],
   "source": [
    "print(dates_list_lavval)"
   ]
  },
  {
   "cell_type": "markdown",
   "metadata": {},
   "source": [
    "newagefsg"
   ]
  },
  {
   "cell_type": "code",
   "execution_count": 759,
   "metadata": {},
   "outputs": [],
   "source": [
    "date_col_newagefsg = newagefsg['created_at']\n",
    "date_col_newagefsg = date_col_newagefsg.dropna()\n",
    "dates = []\n",
    "for index, value in date_col_newagefsg.items():\n",
    "    # print(value)\n",
    "    date = value.split(\"T\")[0]\n",
    "    dates.append(date)\n",
    "# print(dates)\n",
    "dates_df_newagefsg = pd.DataFrame(dates)\n",
    "dates_df_newagefsg.value_counts().sort_index()\n",
    "\n",
    "dates_series_newagefsg = dates_df_newagefsg.value_counts().sort_index()\n",
    "dates_df_newagefsg = pd.DataFrame(dates_series_newagefsg)\n",
    "dates_df_newagefsg.columns = [\"number\"]\n",
    "\n",
    "dates_number_list_newagefsg = dates_df_newagefsg[\"number\"].tolist()\n",
    "\n",
    "dates_unclean_list_newagefsg = dates_df_newagefsg.index.values.tolist()\n",
    "\n",
    "dates_list_newagefsg = []\n",
    "for item in dates_unclean_list_newagefsg:\n",
    "    dates_list_newagefsg.append(item[0])"
   ]
  },
  {
   "cell_type": "code",
   "execution_count": 760,
   "metadata": {},
   "outputs": [
    {
     "name": "stdout",
     "output_type": "stream",
     "text": [
      "[10, 3, 8]\n"
     ]
    }
   ],
   "source": [
    "print(dates_number_list_newagefsg)"
   ]
  },
  {
   "cell_type": "code",
   "execution_count": 761,
   "metadata": {},
   "outputs": [
    {
     "name": "stdout",
     "output_type": "stream",
     "text": [
      "['2022-01-20', '2022-01-21', '2022-01-22']\n"
     ]
    }
   ],
   "source": [
    "print(dates_list_newagefsg)"
   ]
  }
 ],
 "metadata": {
  "kernelspec": {
   "display_name": "Python 3",
   "language": "python",
   "name": "python3"
  },
  "language_info": {
   "codemirror_mode": {
    "name": "ipython",
    "version": 3
   },
   "file_extension": ".py",
   "mimetype": "text/x-python",
   "name": "python",
   "nbconvert_exporter": "python",
   "pygments_lexer": "ipython3",
   "version": "3.8.5"
  }
 },
 "nbformat": 4,
 "nbformat_minor": 2
}
