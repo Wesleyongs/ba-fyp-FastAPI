{
 "cells": [
  {
   "cell_type": "markdown",
   "metadata": {},
   "source": [
    "# Data Pre-processing"
   ]
  },
  {
   "cell_type": "code",
   "execution_count": 1,
   "metadata": {},
   "outputs": [],
   "source": [
    "import pandas as pd\n",
    "import numpy as np"
   ]
  },
  {
   "cell_type": "code",
   "execution_count": 2,
   "metadata": {},
   "outputs": [],
   "source": [
    "jamstones_df = pd.read_csv('jamstones.csv')"
   ]
  },
  {
   "cell_type": "markdown",
   "metadata": {},
   "source": [
    "### Filter the relevant column for processing"
   ]
  },
  {
   "cell_type": "code",
   "execution_count": 3,
   "metadata": {},
   "outputs": [],
   "source": [
    "jamstones_df['processed_at'] = pd.to_datetime(jamstones_df['processed_at']).dt.date"
   ]
  },
  {
   "cell_type": "code",
   "execution_count": 5,
   "metadata": {},
   "outputs": [
    {
     "data": {
      "text/html": [
       "<div>\n",
       "<style scoped>\n",
       "    .dataframe tbody tr th:only-of-type {\n",
       "        vertical-align: middle;\n",
       "    }\n",
       "\n",
       "    .dataframe tbody tr th {\n",
       "        vertical-align: top;\n",
       "    }\n",
       "\n",
       "    .dataframe thead th {\n",
       "        text-align: right;\n",
       "    }\n",
       "</style>\n",
       "<table border=\"1\" class=\"dataframe\">\n",
       "  <thead>\n",
       "    <tr style=\"text-align: right;\">\n",
       "      <th></th>\n",
       "      <th>line_items</th>\n",
       "      <th>processed_at</th>\n",
       "    </tr>\n",
       "  </thead>\n",
       "  <tbody>\n",
       "    <tr>\n",
       "      <th>0</th>\n",
       "      <td>[{'id': 10556246884448, 'admin_graphql_api_id'...</td>\n",
       "      <td>2021-12-28</td>\n",
       "    </tr>\n",
       "    <tr>\n",
       "      <th>1</th>\n",
       "      <td>[{'id': 10556197765216, 'admin_graphql_api_id'...</td>\n",
       "      <td>2021-12-28</td>\n",
       "    </tr>\n",
       "    <tr>\n",
       "      <th>2</th>\n",
       "      <td>[{'id': 10555527856224, 'admin_graphql_api_id'...</td>\n",
       "      <td>2021-12-27</td>\n",
       "    </tr>\n",
       "    <tr>\n",
       "      <th>3</th>\n",
       "      <td>[{'id': 10555457470560, 'admin_graphql_api_id'...</td>\n",
       "      <td>2021-12-27</td>\n",
       "    </tr>\n",
       "    <tr>\n",
       "      <th>4</th>\n",
       "      <td>[{'id': 10555303166048, 'admin_graphql_api_id'...</td>\n",
       "      <td>2021-12-27</td>\n",
       "    </tr>\n",
       "  </tbody>\n",
       "</table>\n",
       "</div>"
      ],
      "text/plain": [
       "                                          line_items processed_at\n",
       "0  [{'id': 10556246884448, 'admin_graphql_api_id'...   2021-12-28\n",
       "1  [{'id': 10556197765216, 'admin_graphql_api_id'...   2021-12-28\n",
       "2  [{'id': 10555527856224, 'admin_graphql_api_id'...   2021-12-27\n",
       "3  [{'id': 10555457470560, 'admin_graphql_api_id'...   2021-12-27\n",
       "4  [{'id': 10555303166048, 'admin_graphql_api_id'...   2021-12-27"
      ]
     },
     "execution_count": 5,
     "metadata": {},
     "output_type": "execute_result"
    }
   ],
   "source": [
    "items_dates_df = jamstones_df[['line_items', 'processed_at']]\n",
    "items_dates_df.head()"
   ]
  },
  {
   "cell_type": "code",
   "execution_count": 8,
   "metadata": {},
   "outputs": [],
   "source": [
    "from datetime import date"
   ]
  },
  {
   "cell_type": "code",
   "execution_count": 22,
   "metadata": {},
   "outputs": [],
   "source": [
    "today_date = date.today()"
   ]
  },
  {
   "cell_type": "code",
   "execution_count": 36,
   "metadata": {},
   "outputs": [],
   "source": [
    "def get_filtered_data(df, past_days):\n",
    "    print(today_date)\n",
    "    print(df[\"processed_at\"].iloc[1])\n",
    "    \n",
    "    filtered_df = df.loc[(today_date - df[\"processed_at\"]).dt.days <= past_days]\n",
    "    return filtered_df"
   ]
  },
  {
   "cell_type": "code",
   "execution_count": 38,
   "metadata": {},
   "outputs": [
    {
     "name": "stdout",
     "output_type": "stream",
     "text": [
      "2022-01-27\n",
      "2021-12-28\n"
     ]
    },
    {
     "data": {
      "text/html": [
       "<div>\n",
       "<style scoped>\n",
       "    .dataframe tbody tr th:only-of-type {\n",
       "        vertical-align: middle;\n",
       "    }\n",
       "\n",
       "    .dataframe tbody tr th {\n",
       "        vertical-align: top;\n",
       "    }\n",
       "\n",
       "    .dataframe thead th {\n",
       "        text-align: right;\n",
       "    }\n",
       "</style>\n",
       "<table border=\"1\" class=\"dataframe\">\n",
       "  <thead>\n",
       "    <tr style=\"text-align: right;\">\n",
       "      <th></th>\n",
       "      <th>line_items</th>\n",
       "      <th>processed_at</th>\n",
       "    </tr>\n",
       "  </thead>\n",
       "  <tbody>\n",
       "    <tr>\n",
       "      <th>0</th>\n",
       "      <td>[{'id': 10556246884448, 'admin_graphql_api_id'...</td>\n",
       "      <td>2021-12-28</td>\n",
       "    </tr>\n",
       "    <tr>\n",
       "      <th>1</th>\n",
       "      <td>[{'id': 10556197765216, 'admin_graphql_api_id'...</td>\n",
       "      <td>2021-12-28</td>\n",
       "    </tr>\n",
       "  </tbody>\n",
       "</table>\n",
       "</div>"
      ],
      "text/plain": [
       "                                          line_items processed_at\n",
       "0  [{'id': 10556246884448, 'admin_graphql_api_id'...   2021-12-28\n",
       "1  [{'id': 10556197765216, 'admin_graphql_api_id'...   2021-12-28"
      ]
     },
     "execution_count": 38,
     "metadata": {},
     "output_type": "execute_result"
    }
   ],
   "source": [
    "filtered_df = get_filtered_data(items_dates_df, 30)\n",
    "filtered_df"
   ]
  },
  {
   "cell_type": "code",
   "execution_count": 15,
   "metadata": {},
   "outputs": [
    {
     "name": "stdout",
     "output_type": "stream",
     "text": [
      "2021-12-28\n",
      "2022-01-27\n",
      "<class 'datetime.timedelta'>\n",
      "30\n",
      "=====================\n",
      "2021-12-28\n",
      "2022-01-27\n",
      "<class 'datetime.timedelta'>\n",
      "30\n",
      "=====================\n",
      "2021-12-27\n",
      "2022-01-27\n",
      "<class 'datetime.timedelta'>\n",
      "31\n",
      "=====================\n",
      "2021-12-27\n",
      "2022-01-27\n",
      "<class 'datetime.timedelta'>\n",
      "31\n",
      "=====================\n",
      "2021-12-27\n",
      "2022-01-27\n",
      "<class 'datetime.timedelta'>\n",
      "31\n",
      "=====================\n"
     ]
    }
   ],
   "source": [
    "for index, row in items_dates_df.head().iterrows():\n",
    "    print(row[1])\n",
    "    today_date = date.today()\n",
    "    print(today_date)\n",
    "    difference = today_date - row[1]\n",
    "    print(type(difference))\n",
    "    print(difference.days)\n",
    "    print(\"=====================\")\n"
   ]
  },
  {
   "cell_type": "markdown",
   "metadata": {},
   "source": [
    "### Import necessary packages"
   ]
  },
  {
   "cell_type": "code",
   "execution_count": 5,
   "metadata": {},
   "outputs": [],
   "source": [
    "import ast"
   ]
  },
  {
   "cell_type": "markdown",
   "metadata": {},
   "source": [
    "# Generate data for Top Sales (in terms of quantity) by Product"
   ]
  },
  {
   "cell_type": "markdown",
   "metadata": {},
   "source": [
    "### Helper function for data preprocessing"
   ]
  },
  {
   "cell_type": "code",
   "execution_count": 6,
   "metadata": {},
   "outputs": [],
   "source": [
    "def clean_words(title):\n",
    "    remove = False\n",
    "    clean_title = \"\"\n",
    "    for char in title:\n",
    "        if char == \"[\" or char == \"(\":\n",
    "            remove = True\n",
    "        elif char == \"]\" or char == \")\":\n",
    "            remove = False\n",
    "        elif char == \"*\" and remove == False:\n",
    "            remove = True\n",
    "        elif char == \"*\" and remove == True:\n",
    "            remove = False\n",
    "\n",
    "        if remove == False:\n",
    "            if char == \" \" and len(clean_title) > 0 and clean_title[-1] != \" \":\n",
    "                clean_title += char\n",
    "            elif char not in [\"]\", \")\", \"*\", \" \"]:\n",
    "                clean_title += char\n",
    "    return clean_title"
   ]
  },
  {
   "cell_type": "markdown",
   "metadata": {},
   "source": [
    "### Loop through transactions to compile total sales (quantity) for each product"
   ]
  },
  {
   "cell_type": "code",
   "execution_count": 7,
   "metadata": {},
   "outputs": [],
   "source": [
    "product_quantity_dict = {}\n",
    "\n",
    "for index, row in line_items_df.iterrows():\n",
    "    if type(row[0]) is not None and type(row[0]) is str:\n",
    "        data = ast.literal_eval(row[0])\n",
    "        for purchase in data:\n",
    "            title = purchase[\"title\"]\n",
    "            new_title = clean_words(title).lstrip(\" \").rstrip(\" \")\n",
    "            if \"Testing\" not in new_title and \"Live Sale\" not in new_title:\n",
    "                if new_title not in product_quantity_dict:\n",
    "                    product_quantity_dict[new_title] = int(purchase[\"quantity\"])\n",
    "                else:\n",
    "                    product_quantity_dict[new_title] += int(purchase[\"quantity\"])"
   ]
  },
  {
   "cell_type": "code",
   "execution_count": 8,
   "metadata": {},
   "outputs": [],
   "source": [
    "product_quantity_df = pd.DataFrame.from_dict(product_quantity_dict, orient='index', columns=['quantity'])\n",
    "product_quantity_df.sort_values(by='quantity', ascending=False, inplace=True)"
   ]
  },
  {
   "cell_type": "code",
   "execution_count": 9,
   "metadata": {},
   "outputs": [
    {
     "data": {
      "text/html": [
       "<div>\n",
       "<style scoped>\n",
       "    .dataframe tbody tr th:only-of-type {\n",
       "        vertical-align: middle;\n",
       "    }\n",
       "\n",
       "    .dataframe tbody tr th {\n",
       "        vertical-align: top;\n",
       "    }\n",
       "\n",
       "    .dataframe thead th {\n",
       "        text-align: right;\n",
       "    }\n",
       "</style>\n",
       "<table border=\"1\" class=\"dataframe\">\n",
       "  <thead>\n",
       "    <tr style=\"text-align: right;\">\n",
       "      <th></th>\n",
       "      <th>quantity</th>\n",
       "    </tr>\n",
       "  </thead>\n",
       "  <tbody>\n",
       "    <tr>\n",
       "      <th>Solitaire Crystal Necklace</th>\n",
       "      <td>320</td>\n",
       "    </tr>\n",
       "    <tr>\n",
       "      <th>Amethyst Eye Pillow</th>\n",
       "      <td>308</td>\n",
       "    </tr>\n",
       "    <tr>\n",
       "      <th>2022 ZODIAC Crystal Bag Charm</th>\n",
       "      <td>275</td>\n",
       "    </tr>\n",
       "    <tr>\n",
       "      <th>Healing Crystal Tree</th>\n",
       "      <td>226</td>\n",
       "    </tr>\n",
       "    <tr>\n",
       "      <th>Wealth Magnet Bottle</th>\n",
       "      <td>208</td>\n",
       "    </tr>\n",
       "    <tr>\n",
       "      <th>Mermaid Dream Crystal Earrings</th>\n",
       "      <td>199</td>\n",
       "    </tr>\n",
       "    <tr>\n",
       "      <th>Rose Gold Bag Charm</th>\n",
       "      <td>198</td>\n",
       "    </tr>\n",
       "    <tr>\n",
       "      <th>DAINTY Bracelets</th>\n",
       "      <td>191</td>\n",
       "    </tr>\n",
       "    <tr>\n",
       "      <th>Crystal Magical Unicorn</th>\n",
       "      <td>186</td>\n",
       "    </tr>\n",
       "    <tr>\n",
       "      <th>Wealth Money Bag Crystal Resin</th>\n",
       "      <td>166</td>\n",
       "    </tr>\n",
       "  </tbody>\n",
       "</table>\n",
       "</div>"
      ],
      "text/plain": [
       "                                quantity\n",
       "Solitaire Crystal Necklace           320\n",
       "Amethyst Eye Pillow                  308\n",
       "2022 ZODIAC Crystal Bag Charm        275\n",
       "Healing Crystal Tree                 226\n",
       "Wealth Magnet Bottle                 208\n",
       "Mermaid Dream Crystal Earrings       199\n",
       "Rose Gold Bag Charm                  198\n",
       "DAINTY Bracelets                     191\n",
       "Crystal Magical Unicorn              186\n",
       "Wealth Money Bag Crystal Resin       166"
      ]
     },
     "execution_count": 9,
     "metadata": {},
     "output_type": "execute_result"
    }
   ],
   "source": [
    "product_quantity_df.head(10)"
   ]
  },
  {
   "cell_type": "code",
   "execution_count": 10,
   "metadata": {},
   "outputs": [],
   "source": [
    "top_product_quantity_df = product_quantity_df.head(10)"
   ]
  },
  {
   "cell_type": "code",
   "execution_count": 11,
   "metadata": {},
   "outputs": [
    {
     "data": {
      "text/plain": [
       "<AxesSubplot:>"
      ]
     },
     "execution_count": 11,
     "metadata": {},
     "output_type": "execute_result"
    },
    {
     "data": {
      "image/png": "[encoded data removed]",
      "text/plain": [
       "<Figure size 360x360 with 1 Axes>"
      ]
     },
     "metadata": {},
     "output_type": "display_data"
    }
   ],
   "source": [
    "top_product_quantity_df.plot.barh(y='quantity', figsize=(5, 5))"
   ]
  },
  {
   "cell_type": "code",
   "execution_count": 17,
   "metadata": {},
   "outputs": [],
   "source": [
    "top_dict = top_product_quantity_df.to_dict()\n",
    "top_quantitiy_dict = top_dict[\"quantity\"]\n",
    "x = list(top_quantitiy_dict.keys())\n",
    "y = list(top_quantitiy_dict.values())"
   ]
  },
  {
   "cell_type": "code",
   "execution_count": 18,
   "metadata": {},
   "outputs": [
    {
     "data": {
      "text/plain": [
       "['Solitaire Crystal Necklace',\n",
       " 'Amethyst Eye Pillow',\n",
       " '2022 ZODIAC Crystal Bag Charm',\n",
       " 'Healing Crystal Tree',\n",
       " 'Wealth Magnet Bottle',\n",
       " 'Mermaid Dream Crystal Earrings',\n",
       " 'Rose Gold Bag Charm',\n",
       " 'DAINTY Bracelets',\n",
       " 'Crystal Magical Unicorn',\n",
       " 'Wealth Money Bag Crystal Resin']"
      ]
     },
     "execution_count": 18,
     "metadata": {},
     "output_type": "execute_result"
    }
   ],
   "source": [
    "x"
   ]
  },
  {
   "cell_type": "code",
   "execution_count": 19,
   "metadata": {},
   "outputs": [
    {
     "data": {
      "text/plain": [
       "[320, 308, 275, 226, 208, 199, 198, 191, 186, 166]"
      ]
     },
     "execution_count": 19,
     "metadata": {},
     "output_type": "execute_result"
    }
   ],
   "source": [
    "y"
   ]
  }
 ],
 "metadata": {
  "interpreter": {
   "hash": "4e9f2c58c4b5e6e4aeaec2f79699198332387ee8b201b537751c5d46df27fb1b"
  },
  "kernelspec": {
   "display_name": "Python 3.8.5 64-bit ('base': conda)",
   "language": "python",
   "name": "python3"
  },
  "language_info": {
   "codemirror_mode": {
    "name": "ipython",
    "version": 3
   },
   "file_extension": ".py",
   "mimetype": "text/x-python",
   "name": "python",
   "nbconvert_exporter": "python",
   "pygments_lexer": "ipython3",
   "version": "3.8.5"
  },
  "orig_nbformat": 4
 },
 "nbformat": 4,
 "nbformat_minor": 2
}
