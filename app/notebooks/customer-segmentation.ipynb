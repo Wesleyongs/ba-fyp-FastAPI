{
 "cells": [
  {
   "cell_type": "code",
   "execution_count": 5,
   "metadata": {
    "ExecuteTime": {
     "end_time": "2022-01-26T11:53:31.428797Z",
     "start_time": "2022-01-26T11:53:31.423798Z"
    }
   },
   "outputs": [],
   "source": [
    "import pandas as pd\n",
    "import json\n",
    "import ast\n",
    "import plotly.express as px\n",
    "import math"
   ]
  },
  {
   "cell_type": "code",
   "execution_count": 9,
   "metadata": {
    "ExecuteTime": {
     "end_time": "2022-01-26T11:54:28.140685Z",
     "start_time": "2022-01-26T11:54:25.287763Z"
    }
   },
   "outputs": [],
   "source": [
    "jamstones = pd.read_csv('jamstones.csv')\n",
    "lavval = pd.read_csv('lavval.csv')\n",
    "newagefsg = pd.read_csv('newage.csv')"
   ]
  },
  {
   "cell_type": "code",
   "execution_count": 10,
   "metadata": {
    "ExecuteTime": {
     "end_time": "2022-01-26T11:54:28.266571Z",
     "start_time": "2022-01-26T11:54:28.241572Z"
    }
   },
   "outputs": [
    {
     "name": "stdout",
     "output_type": "stream",
     "text": [
      "<class 'pandas.core.frame.DataFrame'>\n",
      "RangeIndex: 8082 entries, 0 to 8081\n",
      "Data columns (total 10 columns):\n",
      " #   Column                   Non-Null Count  Dtype  \n",
      "---  ------                   --------------  -----  \n",
      " 0   id                       8082 non-null   int64  \n",
      " 1   tags                     4266 non-null   object \n",
      " 2   current_total_discounts  8082 non-null   float64\n",
      " 3   current_total_price      8082 non-null   float64\n",
      " 4   discount_codes           8082 non-null   object \n",
      " 5   customer                 7812 non-null   object \n",
      " 6   discount_applications    8082 non-null   object \n",
      " 7   line_items               8082 non-null   object \n",
      " 8   total_price              8082 non-null   float64\n",
      " 9   shipping_address         6748 non-null   object \n",
      "dtypes: float64(3), int64(1), object(6)\n",
      "memory usage: 631.5+ KB\n"
     ]
    }
   ],
   "source": [
    "jamstones[['id', 'tags', 'current_total_discounts', 'current_total_price','discount_codes','customer', 'discount_applications','line_items', 'total_price', 'shipping_address']].info()"
   ]
  },
  {
   "cell_type": "markdown",
   "metadata": {},
   "source": [
    "### Preprocessing"
   ]
  },
  {
   "cell_type": "code",
   "execution_count": 11,
   "metadata": {
    "ExecuteTime": {
     "end_time": "2022-01-26T11:55:09.300619Z",
     "start_time": "2022-01-26T11:55:09.272628Z"
    }
   },
   "outputs": [],
   "source": [
    "# Preprocessing\n",
    "\n",
    "#helper functions\n",
    "def trim_all_columns(df):\n",
    "    \"\"\"\n",
    "    Trim whitespace from ends of each value across all series in dataframe\n",
    "    \"\"\"\n",
    "    trim_strings = lambda x: x.strip() if isinstance(x, str) else x\n",
    "    return df.applymap(trim_strings)\n",
    "\n",
    "def source(x):\n",
    "    if 'shopee' in x.lower():\n",
    "        return 'Shopee'\n",
    "    elif 'instagram' in x.lower():\n",
    "        return 'Instagram'\n",
    "    else:\n",
    "        return 'Shopify'\n",
    "    \n",
    "def check_format(row):\n",
    "    if type(row)==str:\n",
    "        if ((row[0] == '['and row[len(row)-1] == ']' and row[1] == '{'and row[len(row)-2] == '}') or (row[0] == '{'and row[len(row)-1] == '}') )and len(row)>10:\n",
    "            return True\n",
    "    else:\n",
    "        return False\n",
    "\n",
    "def preprocessing(df):\n",
    "    df_copy = df.copy()[['id', 'tags', 'current_total_discounts', 'current_total_price','discount_codes','customer', 'discount_applications','line_items', 'total_price', 'shipping_address']]\n",
    "    df_copy.tags.fillna(\"Shopify\", inplace = True)\n",
    "    df_copy['format_check'] = df_copy.apply(lambda x: 'pass' if check_format(x.line_items) else math.nan, axis=1)\n",
    "    df_copy['format_check'] = df_copy.apply(lambda x: 'pass' if (check_format(x.discount_codes) and x.format_check!=math.nan) else math.nan, axis=1)\n",
    "    df_copy['format_check'] = df_copy.apply(lambda x: 'pass' if (check_format(x.customer) and x.format_check!=math.nan) else math.nan, axis=1)\n",
    "    df_copy.dropna(inplace = True)\n",
    "    \n",
    "    func = np.vectorize(source)\n",
    "    df_copy['source'] = func(df_copy[\"tags\"])\n",
    "    df_copy = trim_all_columns(df_copy)\n",
    "    df_copy['has_discount'] = np.where(df_copy['discount_codes']=='[]', True, False)\n",
    "    \n",
    "    df_copy.line_items = df_copy.line_items.apply(eval).apply(json.dumps)\n",
    "    df_copy.customer = df_copy.customer.apply(eval).apply(json.dumps)\n",
    "    df_copy.discount_codes = df_copy.discount_codes.apply(eval).apply(json.dumps)\n",
    "    df_copy.discount_applications = df_copy.discount_applications.apply(eval).apply(json.dumps)\n",
    "    df_copy.shipping_address = df_copy.shipping_address.apply(eval).apply(json.dumps)\n",
    "\n",
    "    # Column names that contain JSON\n",
    "    json_cols = ['customer', 'discount_codes','discount_applications','line_items','shipping_address']\n",
    "\n",
    "    def clean_json(x):\n",
    "        \"Create apply function for decoding JSON\"\n",
    "        return json.loads(x)\n",
    "\n",
    "    # Apply the function column wise to each column of interest\n",
    "    for x in json_cols:\n",
    "        df_copy[x] = df_copy[x].apply(clean_json)        \n",
    "    \n",
    "    df_copy['customer_id'] = df_copy.apply(lambda x: x.customer['id'], axis=1)\n",
    "    df_copy['freq'] = df_copy.groupby('customer_id')['customer_id'].transform('count')\n",
    "    \n",
    "    discount_codes_list = df_copy['discount_codes'].tolist()\n",
    "    codes_list = [row[0]['code'] if row!=[] else 'None' for row in discount_codes_list ]\n",
    "    df_copy['codes'] = codes_list\n",
    "\n",
    "    \n",
    "    return df_copy\n",
    "   \n"
   ]
  },
  {
   "cell_type": "code",
   "execution_count": 12,
   "metadata": {
    "ExecuteTime": {
     "end_time": "2022-01-26T11:55:22.180310Z",
     "start_time": "2022-01-26T11:55:14.292310Z"
    }
   },
   "outputs": [
    {
     "data": {
      "text/html": [
       "<div>\n",
       "<style scoped>\n",
       "    .dataframe tbody tr th:only-of-type {\n",
       "        vertical-align: middle;\n",
       "    }\n",
       "\n",
       "    .dataframe tbody tr th {\n",
       "        vertical-align: top;\n",
       "    }\n",
       "\n",
       "    .dataframe thead th {\n",
       "        text-align: right;\n",
       "    }\n",
       "</style>\n",
       "<table border=\"1\" class=\"dataframe\">\n",
       "  <thead>\n",
       "    <tr style=\"text-align: right;\">\n",
       "      <th></th>\n",
       "      <th>id</th>\n",
       "      <th>tags</th>\n",
       "      <th>current_total_discounts</th>\n",
       "      <th>current_total_price</th>\n",
       "      <th>discount_codes</th>\n",
       "      <th>customer</th>\n",
       "      <th>discount_applications</th>\n",
       "      <th>line_items</th>\n",
       "      <th>total_price</th>\n",
       "      <th>shipping_address</th>\n",
       "      <th>format_check</th>\n",
       "      <th>source</th>\n",
       "      <th>has_discount</th>\n",
       "      <th>customer_id</th>\n",
       "      <th>freq</th>\n",
       "      <th>codes</th>\n",
       "    </tr>\n",
       "  </thead>\n",
       "  <tbody>\n",
       "    <tr>\n",
       "      <th>0</th>\n",
       "      <td>4093536043104</td>\n",
       "      <td>shopee</td>\n",
       "      <td>7.13</td>\n",
       "      <td>52.67</td>\n",
       "      <td>[{'code': 'Shopee Transaction Fee, Shopee Vouc...</td>\n",
       "      <td>{'id': 5198168719456, 'email': None, 'accepts_...</td>\n",
       "      <td>[{'target_type': 'line_item', 'type': 'manual'...</td>\n",
       "      <td>[{'id': 10557966286944, 'admin_graphql_api_id'...</td>\n",
       "      <td>52.67</td>\n",
       "      <td>{'first_name': 'P*****g', 'address1': '11*****...</td>\n",
       "      <td>pass</td>\n",
       "      <td>Shopee</td>\n",
       "      <td>False</td>\n",
       "      <td>5198168719456</td>\n",
       "      <td>11</td>\n",
       "      <td>Shopee Transaction Fee, Shopee Vouchers</td>\n",
       "    </tr>\n",
       "    <tr>\n",
       "      <th>1</th>\n",
       "      <td>4093506060384</td>\n",
       "      <td>shopee</td>\n",
       "      <td>6.96</td>\n",
       "      <td>52.84</td>\n",
       "      <td>[{'code': 'Shopee Transaction Fee, Shopee Vouc...</td>\n",
       "      <td>{'id': 5366028140640, 'email': None, 'accepts_...</td>\n",
       "      <td>[{'target_type': 'line_item', 'type': 'manual'...</td>\n",
       "      <td>[{'id': 10557885513824, 'admin_graphql_api_id'...</td>\n",
       "      <td>52.84</td>\n",
       "      <td>{'first_name': 'Ng Jo Yi', 'address1': 'BEDOK ...</td>\n",
       "      <td>pass</td>\n",
       "      <td>Shopee</td>\n",
       "      <td>False</td>\n",
       "      <td>5366028140640</td>\n",
       "      <td>1</td>\n",
       "      <td>Shopee Transaction Fee, Shopee Vouchers</td>\n",
       "    </tr>\n",
       "    <tr>\n",
       "      <th>2</th>\n",
       "      <td>4093373120608</td>\n",
       "      <td>shopee</td>\n",
       "      <td>0.07</td>\n",
       "      <td>3.93</td>\n",
       "      <td>[{'code': 'Shopee Transaction Fee', 'amount': ...</td>\n",
       "      <td>{'id': 5356590334048, 'email': None, 'accepts_...</td>\n",
       "      <td>[{'target_type': 'line_item', 'type': 'manual'...</td>\n",
       "      <td>[{'id': 10557541810272, 'admin_graphql_api_id'...</td>\n",
       "      <td>3.93</td>\n",
       "      <td>{'first_name': 'AijaBeautyHalawa', 'address1':...</td>\n",
       "      <td>pass</td>\n",
       "      <td>Shopee</td>\n",
       "      <td>False</td>\n",
       "      <td>5356590334048</td>\n",
       "      <td>2</td>\n",
       "      <td>Shopee Transaction Fee</td>\n",
       "    </tr>\n",
       "    <tr>\n",
       "      <th>3</th>\n",
       "      <td>4093166813280</td>\n",
       "      <td>shopee</td>\n",
       "      <td>0.00</td>\n",
       "      <td>0.00</td>\n",
       "      <td>[{'code': 'Shopee Transaction Fee, Shopee Vouc...</td>\n",
       "      <td>{'id': 5198168719456, 'email': None, 'accepts_...</td>\n",
       "      <td>[{'target_type': 'line_item', 'type': 'manual'...</td>\n",
       "      <td>[{'id': 10557052059744, 'admin_graphql_api_id'...</td>\n",
       "      <td>52.67</td>\n",
       "      <td>{'first_name': 'P*****g', 'address1': '11*****...</td>\n",
       "      <td>pass</td>\n",
       "      <td>Shopee</td>\n",
       "      <td>False</td>\n",
       "      <td>5198168719456</td>\n",
       "      <td>11</td>\n",
       "      <td>Shopee Transaction Fee, Shopee Vouchers</td>\n",
       "    </tr>\n",
       "    <tr>\n",
       "      <th>4</th>\n",
       "      <td>4092837363808</td>\n",
       "      <td>shopee</td>\n",
       "      <td>9.96</td>\n",
       "      <td>89.74</td>\n",
       "      <td>[{'code': 'Shopee Transaction Fee, Shopee Vouc...</td>\n",
       "      <td>{'id': 5365589999712, 'email': None, 'accepts_...</td>\n",
       "      <td>[{'target_type': 'line_item', 'type': 'manual'...</td>\n",
       "      <td>[{'id': 10556246884448, 'admin_graphql_api_id'...</td>\n",
       "      <td>89.74</td>\n",
       "      <td>{'first_name': 'Tan Li Ting', 'address1': '968...</td>\n",
       "      <td>pass</td>\n",
       "      <td>Shopee</td>\n",
       "      <td>False</td>\n",
       "      <td>5365589999712</td>\n",
       "      <td>1</td>\n",
       "      <td>Shopee Transaction Fee, Shopee Vouchers</td>\n",
       "    </tr>\n",
       "    <tr>\n",
       "      <th>...</th>\n",
       "      <td>...</td>\n",
       "      <td>...</td>\n",
       "      <td>...</td>\n",
       "      <td>...</td>\n",
       "      <td>...</td>\n",
       "      <td>...</td>\n",
       "      <td>...</td>\n",
       "      <td>...</td>\n",
       "      <td>...</td>\n",
       "      <td>...</td>\n",
       "      <td>...</td>\n",
       "      <td>...</td>\n",
       "      <td>...</td>\n",
       "      <td>...</td>\n",
       "      <td>...</td>\n",
       "      <td>...</td>\n",
       "    </tr>\n",
       "    <tr>\n",
       "      <th>8071</th>\n",
       "      <td>2570874159200</td>\n",
       "      <td>Shopify</td>\n",
       "      <td>4.00</td>\n",
       "      <td>153.80</td>\n",
       "      <td>[{'code': 'FREESHIPPING', 'amount': '4.00', 't...</td>\n",
       "      <td>{'id': 3451201290336, 'email': 'joselyn999@hot...</td>\n",
       "      <td>[{'target_type': 'shipping_line', 'type': 'dis...</td>\n",
       "      <td>[{'id': 5394215796832, 'admin_graphql_api_id':...</td>\n",
       "      <td>153.80</td>\n",
       "      <td>{'first_name': 'Joselyn', 'address1': '82 Stra...</td>\n",
       "      <td>pass</td>\n",
       "      <td>Shopify</td>\n",
       "      <td>False</td>\n",
       "      <td>3451201290336</td>\n",
       "      <td>1</td>\n",
       "      <td>FREESHIPPING</td>\n",
       "    </tr>\n",
       "    <tr>\n",
       "      <th>8075</th>\n",
       "      <td>2570778706016</td>\n",
       "      <td>Shopify</td>\n",
       "      <td>0.00</td>\n",
       "      <td>49.90</td>\n",
       "      <td>[]</td>\n",
       "      <td>{'id': 3451115405408, 'email': 'bimorphia@hotm...</td>\n",
       "      <td>[]</td>\n",
       "      <td>[{'id': 5394021417056, 'admin_graphql_api_id':...</td>\n",
       "      <td>49.90</td>\n",
       "      <td>{'first_name': 'Josephine', 'address1': 'Blk 2...</td>\n",
       "      <td>pass</td>\n",
       "      <td>Shopify</td>\n",
       "      <td>True</td>\n",
       "      <td>3451115405408</td>\n",
       "      <td>2</td>\n",
       "      <td>None</td>\n",
       "    </tr>\n",
       "    <tr>\n",
       "      <th>8076</th>\n",
       "      <td>2570731782240</td>\n",
       "      <td>Shopify</td>\n",
       "      <td>4.00</td>\n",
       "      <td>129.80</td>\n",
       "      <td>[{'code': 'FREESHIPPING', 'amount': '4.00', 't...</td>\n",
       "      <td>{'id': 3451077099616, 'email': 'justbeingme-ev...</td>\n",
       "      <td>[{'target_type': 'shipping_line', 'type': 'dis...</td>\n",
       "      <td>[{'id': 5393924325472, 'admin_graphql_api_id':...</td>\n",
       "      <td>129.80</td>\n",
       "      <td>{'first_name': 'Eve', 'address1': '669 Hougang...</td>\n",
       "      <td>pass</td>\n",
       "      <td>Shopify</td>\n",
       "      <td>False</td>\n",
       "      <td>3451077099616</td>\n",
       "      <td>1</td>\n",
       "      <td>FREESHIPPING</td>\n",
       "    </tr>\n",
       "    <tr>\n",
       "      <th>8077</th>\n",
       "      <td>2570730242144</td>\n",
       "      <td>Shopify</td>\n",
       "      <td>4.00</td>\n",
       "      <td>225.50</td>\n",
       "      <td>[{'code': 'FREESHIPPING', 'amount': '4.00', 't...</td>\n",
       "      <td>{'id': 3451077754976, 'email': 'yanniedonked@g...</td>\n",
       "      <td>[{'target_type': 'shipping_line', 'type': 'dis...</td>\n",
       "      <td>[{'id': 5393920983136, 'admin_graphql_api_id':...</td>\n",
       "      <td>225.50</td>\n",
       "      <td>{'first_name': 'YQ', 'address1': '107B Tampine...</td>\n",
       "      <td>pass</td>\n",
       "      <td>Shopify</td>\n",
       "      <td>False</td>\n",
       "      <td>3451077754976</td>\n",
       "      <td>1</td>\n",
       "      <td>FREESHIPPING</td>\n",
       "    </tr>\n",
       "    <tr>\n",
       "      <th>8080</th>\n",
       "      <td>2570575249504</td>\n",
       "      <td>Shopify</td>\n",
       "      <td>4.00</td>\n",
       "      <td>0.00</td>\n",
       "      <td>[{'code': 'Paris', 'amount': '4.00', 'type': '...</td>\n",
       "      <td>{'id': 3449764216928, 'email': None, 'accepts_...</td>\n",
       "      <td>[{'target_type': 'shipping_line', 'type': 'dis...</td>\n",
       "      <td>[{'id': 5393650712672, 'admin_graphql_api_id':...</td>\n",
       "      <td>0.00</td>\n",
       "      <td>{'first_name': 'WESLEY', 'address1': '65 Senne...</td>\n",
       "      <td>pass</td>\n",
       "      <td>Shopify</td>\n",
       "      <td>False</td>\n",
       "      <td>3449764216928</td>\n",
       "      <td>3</td>\n",
       "      <td>Paris</td>\n",
       "    </tr>\n",
       "  </tbody>\n",
       "</table>\n",
       "<p>6710 rows × 16 columns</p>\n",
       "</div>"
      ],
      "text/plain": [
       "                 id     tags  current_total_discounts  current_total_price  \\\n",
       "0     4093536043104   shopee                     7.13                52.67   \n",
       "1     4093506060384   shopee                     6.96                52.84   \n",
       "2     4093373120608   shopee                     0.07                 3.93   \n",
       "3     4093166813280   shopee                     0.00                 0.00   \n",
       "4     4092837363808   shopee                     9.96                89.74   \n",
       "...             ...      ...                      ...                  ...   \n",
       "8071  2570874159200  Shopify                     4.00               153.80   \n",
       "8075  2570778706016  Shopify                     0.00                49.90   \n",
       "8076  2570731782240  Shopify                     4.00               129.80   \n",
       "8077  2570730242144  Shopify                     4.00               225.50   \n",
       "8080  2570575249504  Shopify                     4.00                 0.00   \n",
       "\n",
       "                                         discount_codes  \\\n",
       "0     [{'code': 'Shopee Transaction Fee, Shopee Vouc...   \n",
       "1     [{'code': 'Shopee Transaction Fee, Shopee Vouc...   \n",
       "2     [{'code': 'Shopee Transaction Fee', 'amount': ...   \n",
       "3     [{'code': 'Shopee Transaction Fee, Shopee Vouc...   \n",
       "4     [{'code': 'Shopee Transaction Fee, Shopee Vouc...   \n",
       "...                                                 ...   \n",
       "8071  [{'code': 'FREESHIPPING', 'amount': '4.00', 't...   \n",
       "8075                                                 []   \n",
       "8076  [{'code': 'FREESHIPPING', 'amount': '4.00', 't...   \n",
       "8077  [{'code': 'FREESHIPPING', 'amount': '4.00', 't...   \n",
       "8080  [{'code': 'Paris', 'amount': '4.00', 'type': '...   \n",
       "\n",
       "                                               customer  \\\n",
       "0     {'id': 5198168719456, 'email': None, 'accepts_...   \n",
       "1     {'id': 5366028140640, 'email': None, 'accepts_...   \n",
       "2     {'id': 5356590334048, 'email': None, 'accepts_...   \n",
       "3     {'id': 5198168719456, 'email': None, 'accepts_...   \n",
       "4     {'id': 5365589999712, 'email': None, 'accepts_...   \n",
       "...                                                 ...   \n",
       "8071  {'id': 3451201290336, 'email': 'joselyn999@hot...   \n",
       "8075  {'id': 3451115405408, 'email': 'bimorphia@hotm...   \n",
       "8076  {'id': 3451077099616, 'email': 'justbeingme-ev...   \n",
       "8077  {'id': 3451077754976, 'email': 'yanniedonked@g...   \n",
       "8080  {'id': 3449764216928, 'email': None, 'accepts_...   \n",
       "\n",
       "                                  discount_applications  \\\n",
       "0     [{'target_type': 'line_item', 'type': 'manual'...   \n",
       "1     [{'target_type': 'line_item', 'type': 'manual'...   \n",
       "2     [{'target_type': 'line_item', 'type': 'manual'...   \n",
       "3     [{'target_type': 'line_item', 'type': 'manual'...   \n",
       "4     [{'target_type': 'line_item', 'type': 'manual'...   \n",
       "...                                                 ...   \n",
       "8071  [{'target_type': 'shipping_line', 'type': 'dis...   \n",
       "8075                                                 []   \n",
       "8076  [{'target_type': 'shipping_line', 'type': 'dis...   \n",
       "8077  [{'target_type': 'shipping_line', 'type': 'dis...   \n",
       "8080  [{'target_type': 'shipping_line', 'type': 'dis...   \n",
       "\n",
       "                                             line_items  total_price  \\\n",
       "0     [{'id': 10557966286944, 'admin_graphql_api_id'...        52.67   \n",
       "1     [{'id': 10557885513824, 'admin_graphql_api_id'...        52.84   \n",
       "2     [{'id': 10557541810272, 'admin_graphql_api_id'...         3.93   \n",
       "3     [{'id': 10557052059744, 'admin_graphql_api_id'...        52.67   \n",
       "4     [{'id': 10556246884448, 'admin_graphql_api_id'...        89.74   \n",
       "...                                                 ...          ...   \n",
       "8071  [{'id': 5394215796832, 'admin_graphql_api_id':...       153.80   \n",
       "8075  [{'id': 5394021417056, 'admin_graphql_api_id':...        49.90   \n",
       "8076  [{'id': 5393924325472, 'admin_graphql_api_id':...       129.80   \n",
       "8077  [{'id': 5393920983136, 'admin_graphql_api_id':...       225.50   \n",
       "8080  [{'id': 5393650712672, 'admin_graphql_api_id':...         0.00   \n",
       "\n",
       "                                       shipping_address format_check   source  \\\n",
       "0     {'first_name': 'P*****g', 'address1': '11*****...         pass   Shopee   \n",
       "1     {'first_name': 'Ng Jo Yi', 'address1': 'BEDOK ...         pass   Shopee   \n",
       "2     {'first_name': 'AijaBeautyHalawa', 'address1':...         pass   Shopee   \n",
       "3     {'first_name': 'P*****g', 'address1': '11*****...         pass   Shopee   \n",
       "4     {'first_name': 'Tan Li Ting', 'address1': '968...         pass   Shopee   \n",
       "...                                                 ...          ...      ...   \n",
       "8071  {'first_name': 'Joselyn', 'address1': '82 Stra...         pass  Shopify   \n",
       "8075  {'first_name': 'Josephine', 'address1': 'Blk 2...         pass  Shopify   \n",
       "8076  {'first_name': 'Eve', 'address1': '669 Hougang...         pass  Shopify   \n",
       "8077  {'first_name': 'YQ', 'address1': '107B Tampine...         pass  Shopify   \n",
       "8080  {'first_name': 'WESLEY', 'address1': '65 Senne...         pass  Shopify   \n",
       "\n",
       "      has_discount    customer_id  freq  \\\n",
       "0            False  5198168719456    11   \n",
       "1            False  5366028140640     1   \n",
       "2            False  5356590334048     2   \n",
       "3            False  5198168719456    11   \n",
       "4            False  5365589999712     1   \n",
       "...            ...            ...   ...   \n",
       "8071         False  3451201290336     1   \n",
       "8075          True  3451115405408     2   \n",
       "8076         False  3451077099616     1   \n",
       "8077         False  3451077754976     1   \n",
       "8080         False  3449764216928     3   \n",
       "\n",
       "                                        codes  \n",
       "0     Shopee Transaction Fee, Shopee Vouchers  \n",
       "1     Shopee Transaction Fee, Shopee Vouchers  \n",
       "2                      Shopee Transaction Fee  \n",
       "3     Shopee Transaction Fee, Shopee Vouchers  \n",
       "4     Shopee Transaction Fee, Shopee Vouchers  \n",
       "...                                       ...  \n",
       "8071                             FREESHIPPING  \n",
       "8075                                     None  \n",
       "8076                             FREESHIPPING  \n",
       "8077                             FREESHIPPING  \n",
       "8080                                    Paris  \n",
       "\n",
       "[6710 rows x 16 columns]"
      ]
     },
     "execution_count": 12,
     "metadata": {},
     "output_type": "execute_result"
    }
   ],
   "source": [
    "df_copy=preprocessing(jamstones)\n",
    "df_copy"
   ]
  },
  {
   "cell_type": "markdown",
   "metadata": {},
   "source": [
    "## Concat df"
   ]
  },
  {
   "cell_type": "code",
   "execution_count": 14,
   "metadata": {
    "ExecuteTime": {
     "end_time": "2022-01-26T11:56:17.626161Z",
     "start_time": "2022-01-26T11:56:03.717791Z"
    }
   },
   "outputs": [],
   "source": [
    "jamstones_preprocessed = preprocessing(jamstones)\n",
    "lavval_preprocessed = preprocessing(lavval)\n",
    "newagefsg_preprocessed = preprocessing(newagefsg)"
   ]
  },
  {
   "cell_type": "code",
   "execution_count": 16,
   "metadata": {
    "ExecuteTime": {
     "end_time": "2022-01-26T11:56:42.878418Z",
     "start_time": "2022-01-26T11:56:42.704388Z"
    }
   },
   "outputs": [
    {
     "data": {
      "text/html": [
       "<div>\n",
       "<style scoped>\n",
       "    .dataframe tbody tr th:only-of-type {\n",
       "        vertical-align: middle;\n",
       "    }\n",
       "\n",
       "    .dataframe tbody tr th {\n",
       "        vertical-align: top;\n",
       "    }\n",
       "\n",
       "    .dataframe thead th {\n",
       "        text-align: right;\n",
       "    }\n",
       "</style>\n",
       "<table border=\"1\" class=\"dataframe\">\n",
       "  <thead>\n",
       "    <tr style=\"text-align: right;\">\n",
       "      <th></th>\n",
       "      <th>id</th>\n",
       "      <th>tags</th>\n",
       "      <th>current_total_discounts</th>\n",
       "      <th>current_total_price</th>\n",
       "      <th>discount_codes</th>\n",
       "      <th>customer</th>\n",
       "      <th>discount_applications</th>\n",
       "      <th>line_items</th>\n",
       "      <th>total_price</th>\n",
       "      <th>shipping_address</th>\n",
       "      <th>format_check</th>\n",
       "      <th>source</th>\n",
       "      <th>has_discount</th>\n",
       "      <th>customer_id</th>\n",
       "      <th>freq</th>\n",
       "      <th>codes</th>\n",
       "    </tr>\n",
       "  </thead>\n",
       "  <tbody>\n",
       "    <tr>\n",
       "      <th>0</th>\n",
       "      <td>4093536043104</td>\n",
       "      <td>shopee</td>\n",
       "      <td>7.13</td>\n",
       "      <td>52.67</td>\n",
       "      <td>[{'code': 'Shopee Transaction Fee, Shopee Vouc...</td>\n",
       "      <td>{'id': 5198168719456, 'email': None, 'accepts_...</td>\n",
       "      <td>[{'target_type': 'line_item', 'type': 'manual'...</td>\n",
       "      <td>[{'id': 10557966286944, 'admin_graphql_api_id'...</td>\n",
       "      <td>52.67</td>\n",
       "      <td>{'first_name': 'P*****g', 'address1': '11*****...</td>\n",
       "      <td>pass</td>\n",
       "      <td>Shopee</td>\n",
       "      <td>False</td>\n",
       "      <td>5198168719456</td>\n",
       "      <td>11</td>\n",
       "      <td>Shopee Transaction Fee, Shopee Vouchers</td>\n",
       "    </tr>\n",
       "    <tr>\n",
       "      <th>1</th>\n",
       "      <td>4093506060384</td>\n",
       "      <td>shopee</td>\n",
       "      <td>6.96</td>\n",
       "      <td>52.84</td>\n",
       "      <td>[{'code': 'Shopee Transaction Fee, Shopee Vouc...</td>\n",
       "      <td>{'id': 5366028140640, 'email': None, 'accepts_...</td>\n",
       "      <td>[{'target_type': 'line_item', 'type': 'manual'...</td>\n",
       "      <td>[{'id': 10557885513824, 'admin_graphql_api_id'...</td>\n",
       "      <td>52.84</td>\n",
       "      <td>{'first_name': 'Ng Jo Yi', 'address1': 'BEDOK ...</td>\n",
       "      <td>pass</td>\n",
       "      <td>Shopee</td>\n",
       "      <td>False</td>\n",
       "      <td>5366028140640</td>\n",
       "      <td>1</td>\n",
       "      <td>Shopee Transaction Fee, Shopee Vouchers</td>\n",
       "    </tr>\n",
       "    <tr>\n",
       "      <th>2</th>\n",
       "      <td>4093373120608</td>\n",
       "      <td>shopee</td>\n",
       "      <td>0.07</td>\n",
       "      <td>3.93</td>\n",
       "      <td>[{'code': 'Shopee Transaction Fee', 'amount': ...</td>\n",
       "      <td>{'id': 5356590334048, 'email': None, 'accepts_...</td>\n",
       "      <td>[{'target_type': 'line_item', 'type': 'manual'...</td>\n",
       "      <td>[{'id': 10557541810272, 'admin_graphql_api_id'...</td>\n",
       "      <td>3.93</td>\n",
       "      <td>{'first_name': 'AijaBeautyHalawa', 'address1':...</td>\n",
       "      <td>pass</td>\n",
       "      <td>Shopee</td>\n",
       "      <td>False</td>\n",
       "      <td>5356590334048</td>\n",
       "      <td>2</td>\n",
       "      <td>Shopee Transaction Fee</td>\n",
       "    </tr>\n",
       "    <tr>\n",
       "      <th>3</th>\n",
       "      <td>4093166813280</td>\n",
       "      <td>shopee</td>\n",
       "      <td>0.00</td>\n",
       "      <td>0.00</td>\n",
       "      <td>[{'code': 'Shopee Transaction Fee, Shopee Vouc...</td>\n",
       "      <td>{'id': 5198168719456, 'email': None, 'accepts_...</td>\n",
       "      <td>[{'target_type': 'line_item', 'type': 'manual'...</td>\n",
       "      <td>[{'id': 10557052059744, 'admin_graphql_api_id'...</td>\n",
       "      <td>52.67</td>\n",
       "      <td>{'first_name': 'P*****g', 'address1': '11*****...</td>\n",
       "      <td>pass</td>\n",
       "      <td>Shopee</td>\n",
       "      <td>False</td>\n",
       "      <td>5198168719456</td>\n",
       "      <td>11</td>\n",
       "      <td>Shopee Transaction Fee, Shopee Vouchers</td>\n",
       "    </tr>\n",
       "    <tr>\n",
       "      <th>4</th>\n",
       "      <td>4092837363808</td>\n",
       "      <td>shopee</td>\n",
       "      <td>9.96</td>\n",
       "      <td>89.74</td>\n",
       "      <td>[{'code': 'Shopee Transaction Fee, Shopee Vouc...</td>\n",
       "      <td>{'id': 5365589999712, 'email': None, 'accepts_...</td>\n",
       "      <td>[{'target_type': 'line_item', 'type': 'manual'...</td>\n",
       "      <td>[{'id': 10556246884448, 'admin_graphql_api_id'...</td>\n",
       "      <td>89.74</td>\n",
       "      <td>{'first_name': 'Tan Li Ting', 'address1': '968...</td>\n",
       "      <td>pass</td>\n",
       "      <td>Shopee</td>\n",
       "      <td>False</td>\n",
       "      <td>5365589999712</td>\n",
       "      <td>1</td>\n",
       "      <td>Shopee Transaction Fee, Shopee Vouchers</td>\n",
       "    </tr>\n",
       "    <tr>\n",
       "      <th>...</th>\n",
       "      <td>...</td>\n",
       "      <td>...</td>\n",
       "      <td>...</td>\n",
       "      <td>...</td>\n",
       "      <td>...</td>\n",
       "      <td>...</td>\n",
       "      <td>...</td>\n",
       "      <td>...</td>\n",
       "      <td>...</td>\n",
       "      <td>...</td>\n",
       "      <td>...</td>\n",
       "      <td>...</td>\n",
       "      <td>...</td>\n",
       "      <td>...</td>\n",
       "      <td>...</td>\n",
       "      <td>...</td>\n",
       "    </tr>\n",
       "    <tr>\n",
       "      <th>11120</th>\n",
       "      <td>2676186022049</td>\n",
       "      <td>Shopify</td>\n",
       "      <td>0.00</td>\n",
       "      <td>62.90</td>\n",
       "      <td>[]</td>\n",
       "      <td>{'id': 3953183359137, 'email': None, 'accepts_...</td>\n",
       "      <td>[]</td>\n",
       "      <td>[{'id': 5788143878305, 'admin_graphql_api_id':...</td>\n",
       "      <td>62.90</td>\n",
       "      <td>{'first_name': 'Yana', 'address1': 'Blk 815 Ju...</td>\n",
       "      <td>pass</td>\n",
       "      <td>Shopify</td>\n",
       "      <td>True</td>\n",
       "      <td>3953183359137</td>\n",
       "      <td>4</td>\n",
       "      <td>None</td>\n",
       "    </tr>\n",
       "    <tr>\n",
       "      <th>11121</th>\n",
       "      <td>2674319327393</td>\n",
       "      <td>Shopify</td>\n",
       "      <td>4.00</td>\n",
       "      <td>135.00</td>\n",
       "      <td>[{'code': 'FS100', 'amount': '4.00', 'type': '...</td>\n",
       "      <td>{'id': 3948893175969, 'email': 'peiling.ng.1@g...</td>\n",
       "      <td>[{'target_type': 'shipping_line', 'type': 'dis...</td>\n",
       "      <td>[{'id': 5785053888673, 'admin_graphql_api_id':...</td>\n",
       "      <td>135.00</td>\n",
       "      <td>{'first_name': 'Pei Ling', 'address1': '8A Lor...</td>\n",
       "      <td>pass</td>\n",
       "      <td>Shopify</td>\n",
       "      <td>False</td>\n",
       "      <td>3948893175969</td>\n",
       "      <td>1</td>\n",
       "      <td>FS100</td>\n",
       "    </tr>\n",
       "    <tr>\n",
       "      <th>11122</th>\n",
       "      <td>2673968054433</td>\n",
       "      <td>Shopify</td>\n",
       "      <td>0.00</td>\n",
       "      <td>61.00</td>\n",
       "      <td>[]</td>\n",
       "      <td>{'id': 3948014928033, 'email': 'maytbl59@gmail...</td>\n",
       "      <td>[]</td>\n",
       "      <td>[{'id': 5784513413281, 'admin_graphql_api_id':...</td>\n",
       "      <td>61.00</td>\n",
       "      <td>{'first_name': 'May May', 'address1': 'Blk 505...</td>\n",
       "      <td>pass</td>\n",
       "      <td>Shopify</td>\n",
       "      <td>True</td>\n",
       "      <td>3948014928033</td>\n",
       "      <td>1</td>\n",
       "      <td>None</td>\n",
       "    </tr>\n",
       "    <tr>\n",
       "      <th>11123</th>\n",
       "      <td>2673190043809</td>\n",
       "      <td>Shopify</td>\n",
       "      <td>0.00</td>\n",
       "      <td>91.00</td>\n",
       "      <td>[]</td>\n",
       "      <td>{'id': 3946100785313, 'email': 'hltim@singnet....</td>\n",
       "      <td>[]</td>\n",
       "      <td>[{'id': 5783188865185, 'admin_graphql_api_id':...</td>\n",
       "      <td>91.00</td>\n",
       "      <td>{'first_name': 'Hwee Ling', 'address1': 'Blk 2...</td>\n",
       "      <td>pass</td>\n",
       "      <td>Shopify</td>\n",
       "      <td>True</td>\n",
       "      <td>3946100785313</td>\n",
       "      <td>4</td>\n",
       "      <td>None</td>\n",
       "    </tr>\n",
       "    <tr>\n",
       "      <th>11124</th>\n",
       "      <td>2655117574305</td>\n",
       "      <td>Shopify</td>\n",
       "      <td>5.00</td>\n",
       "      <td>0.00</td>\n",
       "      <td>[{'code': 'STEPHFREE', 'amount': '5.00', 'type...</td>\n",
       "      <td>{'id': 3909672108193, 'email': 'kwekkl12@hotma...</td>\n",
       "      <td>[{'target_type': 'shipping_line', 'type': 'dis...</td>\n",
       "      <td>[{'id': 5752646762657, 'admin_graphql_api_id':...</td>\n",
       "      <td>0.00</td>\n",
       "      <td>{'first_name': 'stephanie', 'address1': 'blk 1...</td>\n",
       "      <td>pass</td>\n",
       "      <td>Shopify</td>\n",
       "      <td>False</td>\n",
       "      <td>3909672108193</td>\n",
       "      <td>3</td>\n",
       "      <td>STEPHFREE</td>\n",
       "    </tr>\n",
       "  </tbody>\n",
       "</table>\n",
       "<p>11125 rows × 16 columns</p>\n",
       "</div>"
      ],
      "text/plain": [
       "                  id     tags  current_total_discounts  current_total_price  \\\n",
       "0      4093536043104   shopee                     7.13                52.67   \n",
       "1      4093506060384   shopee                     6.96                52.84   \n",
       "2      4093373120608   shopee                     0.07                 3.93   \n",
       "3      4093166813280   shopee                     0.00                 0.00   \n",
       "4      4092837363808   shopee                     9.96                89.74   \n",
       "...              ...      ...                      ...                  ...   \n",
       "11120  2676186022049  Shopify                     0.00                62.90   \n",
       "11121  2674319327393  Shopify                     4.00               135.00   \n",
       "11122  2673968054433  Shopify                     0.00                61.00   \n",
       "11123  2673190043809  Shopify                     0.00                91.00   \n",
       "11124  2655117574305  Shopify                     5.00                 0.00   \n",
       "\n",
       "                                          discount_codes  \\\n",
       "0      [{'code': 'Shopee Transaction Fee, Shopee Vouc...   \n",
       "1      [{'code': 'Shopee Transaction Fee, Shopee Vouc...   \n",
       "2      [{'code': 'Shopee Transaction Fee', 'amount': ...   \n",
       "3      [{'code': 'Shopee Transaction Fee, Shopee Vouc...   \n",
       "4      [{'code': 'Shopee Transaction Fee, Shopee Vouc...   \n",
       "...                                                  ...   \n",
       "11120                                                 []   \n",
       "11121  [{'code': 'FS100', 'amount': '4.00', 'type': '...   \n",
       "11122                                                 []   \n",
       "11123                                                 []   \n",
       "11124  [{'code': 'STEPHFREE', 'amount': '5.00', 'type...   \n",
       "\n",
       "                                                customer  \\\n",
       "0      {'id': 5198168719456, 'email': None, 'accepts_...   \n",
       "1      {'id': 5366028140640, 'email': None, 'accepts_...   \n",
       "2      {'id': 5356590334048, 'email': None, 'accepts_...   \n",
       "3      {'id': 5198168719456, 'email': None, 'accepts_...   \n",
       "4      {'id': 5365589999712, 'email': None, 'accepts_...   \n",
       "...                                                  ...   \n",
       "11120  {'id': 3953183359137, 'email': None, 'accepts_...   \n",
       "11121  {'id': 3948893175969, 'email': 'peiling.ng.1@g...   \n",
       "11122  {'id': 3948014928033, 'email': 'maytbl59@gmail...   \n",
       "11123  {'id': 3946100785313, 'email': 'hltim@singnet....   \n",
       "11124  {'id': 3909672108193, 'email': 'kwekkl12@hotma...   \n",
       "\n",
       "                                   discount_applications  \\\n",
       "0      [{'target_type': 'line_item', 'type': 'manual'...   \n",
       "1      [{'target_type': 'line_item', 'type': 'manual'...   \n",
       "2      [{'target_type': 'line_item', 'type': 'manual'...   \n",
       "3      [{'target_type': 'line_item', 'type': 'manual'...   \n",
       "4      [{'target_type': 'line_item', 'type': 'manual'...   \n",
       "...                                                  ...   \n",
       "11120                                                 []   \n",
       "11121  [{'target_type': 'shipping_line', 'type': 'dis...   \n",
       "11122                                                 []   \n",
       "11123                                                 []   \n",
       "11124  [{'target_type': 'shipping_line', 'type': 'dis...   \n",
       "\n",
       "                                              line_items  total_price  \\\n",
       "0      [{'id': 10557966286944, 'admin_graphql_api_id'...        52.67   \n",
       "1      [{'id': 10557885513824, 'admin_graphql_api_id'...        52.84   \n",
       "2      [{'id': 10557541810272, 'admin_graphql_api_id'...         3.93   \n",
       "3      [{'id': 10557052059744, 'admin_graphql_api_id'...        52.67   \n",
       "4      [{'id': 10556246884448, 'admin_graphql_api_id'...        89.74   \n",
       "...                                                  ...          ...   \n",
       "11120  [{'id': 5788143878305, 'admin_graphql_api_id':...        62.90   \n",
       "11121  [{'id': 5785053888673, 'admin_graphql_api_id':...       135.00   \n",
       "11122  [{'id': 5784513413281, 'admin_graphql_api_id':...        61.00   \n",
       "11123  [{'id': 5783188865185, 'admin_graphql_api_id':...        91.00   \n",
       "11124  [{'id': 5752646762657, 'admin_graphql_api_id':...         0.00   \n",
       "\n",
       "                                        shipping_address format_check  \\\n",
       "0      {'first_name': 'P*****g', 'address1': '11*****...         pass   \n",
       "1      {'first_name': 'Ng Jo Yi', 'address1': 'BEDOK ...         pass   \n",
       "2      {'first_name': 'AijaBeautyHalawa', 'address1':...         pass   \n",
       "3      {'first_name': 'P*****g', 'address1': '11*****...         pass   \n",
       "4      {'first_name': 'Tan Li Ting', 'address1': '968...         pass   \n",
       "...                                                  ...          ...   \n",
       "11120  {'first_name': 'Yana', 'address1': 'Blk 815 Ju...         pass   \n",
       "11121  {'first_name': 'Pei Ling', 'address1': '8A Lor...         pass   \n",
       "11122  {'first_name': 'May May', 'address1': 'Blk 505...         pass   \n",
       "11123  {'first_name': 'Hwee Ling', 'address1': 'Blk 2...         pass   \n",
       "11124  {'first_name': 'stephanie', 'address1': 'blk 1...         pass   \n",
       "\n",
       "        source  has_discount    customer_id  freq  \\\n",
       "0       Shopee         False  5198168719456    11   \n",
       "1       Shopee         False  5366028140640     1   \n",
       "2       Shopee         False  5356590334048     2   \n",
       "3       Shopee         False  5198168719456    11   \n",
       "4       Shopee         False  5365589999712     1   \n",
       "...        ...           ...            ...   ...   \n",
       "11120  Shopify          True  3953183359137     4   \n",
       "11121  Shopify         False  3948893175969     1   \n",
       "11122  Shopify          True  3948014928033     1   \n",
       "11123  Shopify          True  3946100785313     4   \n",
       "11124  Shopify         False  3909672108193     3   \n",
       "\n",
       "                                         codes  \n",
       "0      Shopee Transaction Fee, Shopee Vouchers  \n",
       "1      Shopee Transaction Fee, Shopee Vouchers  \n",
       "2                       Shopee Transaction Fee  \n",
       "3      Shopee Transaction Fee, Shopee Vouchers  \n",
       "4      Shopee Transaction Fee, Shopee Vouchers  \n",
       "...                                        ...  \n",
       "11120                                     None  \n",
       "11121                                    FS100  \n",
       "11122                                     None  \n",
       "11123                                     None  \n",
       "11124                                STEPHFREE  \n",
       "\n",
       "[11125 rows x 16 columns]"
      ]
     },
     "execution_count": 16,
     "metadata": {},
     "output_type": "execute_result"
    }
   ],
   "source": [
    "new_df = pd.concat([jamstones_preprocessed, lavval_preprocessed, newagefsg_preprocessed], ignore_index=True)\n",
    "new_df"
   ]
  },
  {
   "cell_type": "code",
   "execution_count": 17,
   "metadata": {
    "ExecuteTime": {
     "end_time": "2022-01-26T11:56:49.619557Z",
     "start_time": "2022-01-26T11:56:49.591554Z"
    }
   },
   "outputs": [
    {
     "name": "stdout",
     "output_type": "stream",
     "text": [
      "<class 'pandas.core.frame.DataFrame'>\n",
      "RangeIndex: 11125 entries, 0 to 11124\n",
      "Data columns (total 16 columns):\n",
      " #   Column                   Non-Null Count  Dtype  \n",
      "---  ------                   --------------  -----  \n",
      " 0   id                       11125 non-null  int64  \n",
      " 1   tags                     11125 non-null  object \n",
      " 2   current_total_discounts  11125 non-null  float64\n",
      " 3   current_total_price      11125 non-null  float64\n",
      " 4   discount_codes           11125 non-null  object \n",
      " 5   customer                 11125 non-null  object \n",
      " 6   discount_applications    11125 non-null  object \n",
      " 7   line_items               11125 non-null  object \n",
      " 8   total_price              11125 non-null  float64\n",
      " 9   shipping_address         11125 non-null  object \n",
      " 10  format_check             11125 non-null  object \n",
      " 11  source                   11125 non-null  object \n",
      " 12  has_discount             11125 non-null  bool   \n",
      " 13  customer_id              11125 non-null  int64  \n",
      " 14  freq                     11125 non-null  int64  \n",
      " 15  codes                    11125 non-null  object \n",
      "dtypes: bool(1), float64(3), int64(3), object(9)\n",
      "memory usage: 1.3+ MB\n"
     ]
    }
   ],
   "source": [
    "#aggregate df no preprocessing\n",
    "df = new_df\n",
    "df.info()"
   ]
  },
  {
   "cell_type": "markdown",
   "metadata": {},
   "source": [
    "## Proportion of orders with and without discounts"
   ]
  },
  {
   "cell_type": "code",
   "execution_count": 54,
   "metadata": {
    "ExecuteTime": {
     "end_time": "2022-01-24T04:48:35.555197Z",
     "start_time": "2022-01-24T04:48:35.546210Z"
    }
   },
   "outputs": [
    {
     "data": {
      "text/plain": [
       "True     4304\n",
       "False    2406\n",
       "Name: has_discount, dtype: int64"
      ]
     },
     "execution_count": 54,
     "metadata": {},
     "output_type": "execute_result"
    }
   ],
   "source": [
    "df_copy.has_discount.value_counts()"
   ]
  },
  {
   "cell_type": "code",
   "execution_count": 22,
   "metadata": {
    "ExecuteTime": {
     "end_time": "2022-01-26T11:59:42.279603Z",
     "start_time": "2022-01-26T11:59:42.030607Z"
    }
   },
   "outputs": [
    {
     "data": {
      "text/plain": [
       "[[True, False], [7774, 3351]]"
      ]
     },
     "execution_count": 22,
     "metadata": {},
     "output_type": "execute_result"
    },
    {
     "data": {
      "image/png": "[encoded data removed]",
      "text/plain": [
       "<Figure size 432x288 with 1 Axes>"
      ]
     },
     "metadata": {},
     "output_type": "display_data"
    }
   ],
   "source": [
    "def proportion_discounts(df):    \n",
    "#     df_copy = preprocessing(df)\n",
    "    t = new_df.has_discount.value_counts()\n",
    "    t_df = pd.DataFrame({'value':t.index, 'freq':t.values})\n",
    "    #pie chart\n",
    "    t_df.groupby(['value']).sum().plot(kind='pie', y='freq', autopct='%1.0f%%',\n",
    "                                colors = ['red', 'pink', 'steelblue'],\n",
    "                                title='Tags')\n",
    "    x = t_df.value.tolist()\n",
    "    y = t_df.freq.tolist()\n",
    "    return [x, y]\n",
    "\n",
    "# proportion_discounts(df)\n",
    "proportion_discounts(new_df)"
   ]
  },
  {
   "cell_type": "markdown",
   "metadata": {},
   "source": [
    "## Source of Orders"
   ]
  },
  {
   "cell_type": "code",
   "execution_count": 23,
   "metadata": {
    "ExecuteTime": {
     "end_time": "2022-01-26T11:59:54.543598Z",
     "start_time": "2022-01-26T11:59:54.254071Z"
    }
   },
   "outputs": [
    {
     "data": {
      "text/plain": [
       "[['Shopify', 'Shopee', 'Instagram'], [6221, 4672, 232]]"
      ]
     },
     "execution_count": 23,
     "metadata": {},
     "output_type": "execute_result"
    },
    {
     "data": {
      "image/png": "[encoded data removed]",
      "text/plain": [
       "<Figure size 432x288 with 1 Axes>"
      ]
     },
     "metadata": {},
     "output_type": "display_data"
    }
   ],
   "source": [
    "def source_orders(df):\n",
    "#     df_copy = preprocessing(df)\n",
    "    sf = new_df.source.value_counts()\n",
    "    temp = pd.DataFrame({'source':sf.index, 'freq':sf.values})\n",
    "    #pie chart\n",
    "    temp.groupby(['source']).sum().plot(kind='pie', y='freq', autopct='%1.0f%%',\n",
    "                                colors = ['red', 'pink', 'steelblue'],\n",
    "                                title='Tags')\n",
    "    x = temp.source.tolist()\n",
    "    y = temp.freq.tolist()\n",
    "    return [x, y]\n",
    "\n",
    "# source_orders(df)\n",
    "source_orders(new_df)"
   ]
  },
  {
   "cell_type": "markdown",
   "metadata": {},
   "source": [
    "## Top ten discount codes "
   ]
  },
  {
   "cell_type": "code",
   "execution_count": 24,
   "metadata": {
    "ExecuteTime": {
     "end_time": "2022-01-26T12:00:04.994240Z",
     "start_time": "2022-01-26T12:00:04.654631Z"
    }
   },
   "outputs": [
    {
     "data": {
      "text/plain": [
       "[['Shopee Transaction Fee, Shopee Vouchers',\n",
       "  'Shopee Transaction Fee',\n",
       "  'FREESHIPPING',\n",
       "  'FS100',\n",
       "  'Custom discount',\n",
       "  '15years',\n",
       "  'XMAS10',\n",
       "  '44SALE',\n",
       "  'Shopee Transaction Fee, Shopee Vouchers, Shopee Bundle Deal',\n",
       "  'Shopee Transaction Fee, Shopee Bundle Deal'],\n",
       " [1196, 1105, 252, 129, 90, 77, 74, 72, 59, 38]]"
      ]
     },
     "execution_count": 24,
     "metadata": {},
     "output_type": "execute_result"
    },
    {
     "data": {
      "image/png": "[encoded data removed]",
      "text/plain": [
       "<Figure size 432x288 with 1 Axes>"
      ]
     },
     "metadata": {
      "needs_background": "light"
     },
     "output_type": "display_data"
    }
   ],
   "source": [
    "def top_discount_codes(df):\n",
    "#     df_copy = preprocessing(df)\n",
    "    discount_series = new_df.codes.value_counts()\n",
    "    top_discount_codes = pd.DataFrame({'discount_code':discount_series.index, 'freq':discount_series.values})\n",
    "    top_discount_codes = top_discount_codes[1:]\n",
    "    top10_codes = top_discount_codes[:10]\n",
    "    ax = top10_codes.plot.barh(x='discount_code', y='freq')\n",
    "    x = top10_codes.discount_code.tolist()\n",
    "    y = top10_codes.freq.tolist()\n",
    "    return [x, y]\n",
    "    \n",
    "\n",
    "# top_discount_codes(df)\n",
    "top_discount_codes(new_df)"
   ]
  },
  {
   "cell_type": "markdown",
   "metadata": {},
   "source": [
    "## Proportion of discounted and undiscounted orders per customer (top 10)"
   ]
  },
  {
   "cell_type": "code",
   "execution_count": 25,
   "metadata": {
    "ExecuteTime": {
     "end_time": "2022-01-26T12:00:42.921967Z",
     "start_time": "2022-01-26T12:00:41.838545Z"
    }
   },
   "outputs": [
    {
     "data": {
      "text/plain": [
       "[[5219610493024,\n",
       "  3955295748257,\n",
       "  5195318558816,\n",
       "  5218605006944,\n",
       "  5195470078048,\n",
       "  3206458179627,\n",
       "  5212559212640,\n",
       "  4047350071457,\n",
       "  5212521398368,\n",
       "  5208055218272],\n",
       " [50, 42, 30, 14, 28, 19, 23, 23, 10, 21],\n",
       " [0, 1, 7, 22, 1, 7, 2, 0, 11, 0]]"
      ]
     },
     "execution_count": 25,
     "metadata": {},
     "output_type": "execute_result"
    },
    {
     "data": {
      "image/png": "[encoded data removed]",
      "text/plain": [
       "<Figure size 432x288 with 1 Axes>"
      ]
     },
     "metadata": {
      "needs_background": "light"
     },
     "output_type": "display_data"
    }
   ],
   "source": [
    "def getUniqueItems(d):\n",
    "    result = {}\n",
    "    for key,value in d.items():\n",
    "        if key not in result.keys():\n",
    "            result[key] = value\n",
    "    return result\n",
    "\n",
    "def proportion_discounts(df):\n",
    "#     df_copy = preprocessing(df)\n",
    "    \n",
    "    discount = new_df.drop(new_df[new_df.has_discount == False].index)\n",
    "    no_discount = new_df.drop(new_df[new_df.has_discount == True].index)\n",
    "    discount['freq'] = discount.groupby('customer_id')['customer_id'].transform('count')\n",
    "    no_discount['freq'] = no_discount.groupby('customer_id')['customer_id'].transform('count')\n",
    "    discount_dict = dict(zip(discount.customer_id, discount.freq))\n",
    "    no_discount_dict = dict(zip(no_discount.customer_id, no_discount.freq))\n",
    "    new_discount_dict = getUniqueItems(discount_dict)\n",
    "    new_no_discount_dict = getUniqueItems(no_discount_dict)\n",
    "    d_keys = list(new_discount_dict.keys())\n",
    "    n_keys = list(new_no_discount_dict.keys())\n",
    "    customer_df=pd.DataFrame(columns = ['customer_id', 'discounted_transactions', 'undiscounted_transactions'])\n",
    "    customer_df['customer_id'] = new_df['customer_id'].unique()\n",
    "    customers = customer_df.customer_id.tolist()\n",
    "    discount = [new_discount_dict[customer] if customer in d_keys else 0 for customer in customers ]\n",
    "    no_discount = [new_no_discount_dict[customer] if customer in n_keys else 0 for customer in customers ]\n",
    "    customer_df['discounted_transactions'] = discount\n",
    "    customer_df['undiscounted_transactions'] = no_discount\n",
    "    customer_df['freq'] = customer_df['discounted_transactions']+customer_df['undiscounted_transactions']\n",
    "    top10=customer_df.sort_values(by='freq', ascending=False).head(10)\n",
    "    \n",
    "    #customer_id\n",
    "    x = top10.customer_id.tolist()\n",
    "    #discounted\n",
    "    y1 = top10.discounted_transactions.tolist()\n",
    "    #undiscounted\n",
    "    y2 = top10.undiscounted_transactions.tolist()\n",
    "    \n",
    "    df = pd.DataFrame({'discounted': y1,\n",
    "                   'undiscounted': y2}, index=x)\n",
    "\n",
    "    ax = df.plot.bar(stacked=True)\n",
    "    \n",
    "    # x, y1, y2\n",
    "    return [x, y1, y2]\n",
    "\n",
    "# proportion_discounts(df)\n",
    "proportion_discounts(new_df)"
   ]
  },
  {
   "cell_type": "markdown",
   "metadata": {},
   "source": [
    "## Proportion of revenue with discounts and without discounts"
   ]
  },
  {
   "cell_type": "code",
   "execution_count": 16,
   "metadata": {
    "ExecuteTime": {
     "end_time": "2022-01-25T13:09:22.271639Z",
     "start_time": "2022-01-25T13:09:08.176847Z"
    }
   },
   "outputs": [
    {
     "data": {
      "text/plain": [
       "[['Total discounts', 'Total revenue'], [62746.28999999999, 954237.22]]"
      ]
     },
     "execution_count": 16,
     "metadata": {},
     "output_type": "execute_result"
    },
    {
     "data": {
      "image/png": "[encoded data removed]",
      "text/plain": [
       "<Figure size 432x288 with 1 Axes>"
      ]
     },
     "metadata": {},
     "output_type": "display_data"
    }
   ],
   "source": [
    "#loop thru items in each row in line items and sum up the total_discount (using total_discount from line_items)\n",
    "# def total_discount_per_transaction(row):\n",
    "#     num_items = len(row)\n",
    "#     total_discount = 0\n",
    "#     for i in range(num_items):\n",
    "#         total_discount+=float(row[i]['total_discount'])\n",
    "#     return total_discount\n",
    "\n",
    "# def total_discounts_total_revenue(df):\n",
    "#     df_copy = preprocessing(df)\n",
    "#     line_items_list = df_copy.line_items.tolist()\n",
    "#     total_discount_per_transaction_list = [total_discount_per_transaction(row) for row in line_items_list]\n",
    "#     df_copy['discount_per_transaction'] = total_discount_per_transaction_list\n",
    "#     total_discounts = df_copy['discount_per_transaction'].sum()\n",
    "#     total_revenue = df_copy['total_price'].sum()\n",
    "    \n",
    "#     #pie chart\n",
    "#     data = [['total_discounts', total_discounts], ['total_revenue', total_revenue]]\n",
    "#     temp_df = pd.DataFrame(data, columns = ['Title', 'Value'])\n",
    "    \n",
    "# #     fig = px.pie(temp_df, values='Title', names='Value')\n",
    "# #     fig.show()\n",
    "    \n",
    "#     #pie chart\n",
    "#     temp_df.groupby(['Title']).sum().plot(kind='pie', y='Value', autopct='%1.0f%%',\n",
    "#                                 colors = ['red', 'pink', 'steelblue'],\n",
    "#                                 title='Tags')\n",
    "            \n",
    "#     return (total_discounts, total_revenue)\n",
    "\n",
    "#loop thru items in each row in line items and sum up the value (using value from discount_applications)\n",
    "def total_discount_per_transaction(row):\n",
    "    total_discount = 0\n",
    "    total_discount+= float(row[0]['value'])\n",
    "\n",
    "    return total_discount\n",
    "\n",
    "def total_discounts_total_revenue(df):\n",
    "#     df_copy = preprocessing(df)\n",
    "    discount_applications_list = df_copy.discount_applications.tolist()\n",
    "    total_discount_per_transaction_list = [total_discount_per_transaction(row)if row!=[] else 0 for row in discount_applications_list ]\n",
    "    df_copy['discount_per_transaction'] = total_discount_per_transaction_list\n",
    "    total_discounts = df_copy['discount_per_transaction'].sum()\n",
    "    total_revenue = df_copy['total_price'].sum()\n",
    "    \n",
    "    #pie chart\n",
    "    data = [['total_discounts', total_discounts], ['total_revenue', total_revenue]]\n",
    "    temp_df = pd.DataFrame(data, columns = ['Title', 'Value'])\n",
    "    \n",
    "#     fig = px.pie(temp_df, values='Title', names='Value')\n",
    "#     fig.show()\n",
    "    \n",
    "    #pie chart\n",
    "    temp_df.groupby(['Title']).sum().plot(kind='pie', y='Value', autopct='%1.0f%%',\n",
    "                                colors = ['red', 'pink', 'steelblue'],\n",
    "                                title='Tags')\n",
    "    \n",
    "    x = ['Total discounts', 'Total revenue']\n",
    "    y = [total_discounts, total_revenue]\n",
    "            \n",
    "    return [x, y]\n",
    "\n",
    "# total_discounts_total_revenue(df)\n",
    "total_discounts_total_revenue(new_df)"
   ]
  },
  {
   "cell_type": "markdown",
   "metadata": {},
   "source": [
    "#### Using current_total_discounts and current_total_price"
   ]
  },
  {
   "cell_type": "code",
   "execution_count": 27,
   "metadata": {
    "ExecuteTime": {
     "end_time": "2022-01-26T12:02:20.614922Z",
     "start_time": "2022-01-26T12:02:20.318299Z"
    }
   },
   "outputs": [
    {
     "data": {
      "text/plain": [
       "[['Total discounts', 'Total revenue'], [29755.88, 934647.36]]"
      ]
     },
     "execution_count": 27,
     "metadata": {},
     "output_type": "execute_result"
    },
    {
     "data": {
      "image/png": "[encoded data removed]",
      "text/plain": [
       "<Figure size 432x288 with 1 Axes>"
      ]
     },
     "metadata": {},
     "output_type": "display_data"
    }
   ],
   "source": [
    "def total_discounts_total_revenue(df):\n",
    "    total_discounts = new_df['current_total_discounts'].sum()\n",
    "    total_revenue = new_df['current_total_price'].sum()\n",
    "    \n",
    "    data = [['total_discounts', total_discounts], ['total_revenue', total_revenue]]\n",
    "    temp_df = pd.DataFrame(data, columns = ['Title', 'Value'])\n",
    "    \n",
    "    #pie chart\n",
    "    temp_df.groupby(['Title']).sum().plot(kind='pie', y='Value', autopct='%1.0f%%',\n",
    "                                colors = ['red', 'pink', 'steelblue'],\n",
    "                                title='Tags')\n",
    "    \n",
    "    x = ['Total discounts', 'Total revenue']\n",
    "    y = [total_discounts, total_revenue]\n",
    "            \n",
    "    return [x, y]\n",
    "    \n",
    "    \n",
    "total_discounts_total_revenue(new_df)   "
   ]
  },
  {
   "cell_type": "code",
   "execution_count": 34,
   "metadata": {
    "ExecuteTime": {
     "end_time": "2022-01-26T12:39:38.769636Z",
     "start_time": "2022-01-26T12:39:21.822934Z"
    }
   },
   "outputs": [
    {
     "data": {
      "text/plain": [
       "{'Jamstones': [['Total discounts', 'Total revenue'],\n",
       "  [14363.930000000002, 524248.96]],\n",
       " 'Lavval': [['Total discounts', 'Total revenue'], [5502.84, 181236.81]],\n",
       " 'NewAgeFSG': [['Total discounts', 'Total revenue'],\n",
       "  [9889.11, 229161.58999999997]],\n",
       " 'Aggregate': [['Total discounts', 'Total revenue'], [29755.88, 934647.36]]}"
      ]
     },
     "execution_count": 34,
     "metadata": {},
     "output_type": "execute_result"
    }
   ],
   "source": [
    "def total_discounts_total_revenue(df):\n",
    "    total_discounts = df['current_total_discounts'].sum()\n",
    "    total_revenue = df['current_total_price'].sum()\n",
    "    \n",
    "    x = ['Total discounts', 'Total revenue']\n",
    "    y = [total_discounts, total_revenue]\n",
    "            \n",
    "    return [x, y]\n",
    "\n",
    "#proportion of revenue with discounts and without discounts\n",
    "def get_total_discounts_total_revenue():\n",
    "    \n",
    "#     jamstones = retrieve_jamstones()\n",
    "#     lavval = retrieve_lavval()\n",
    "#     newagefsg = retrieve_newagefsg()\n",
    "\n",
    "    jamstones_preprocessed = preprocessing(jamstones)\n",
    "    lavval_preprocessed = preprocessing(lavval)\n",
    "    newagefsg_preprocessed = preprocessing(newagefsg)\n",
    "    aggregate = pd.concat([jamstones_preprocessed, lavval_preprocessed, newagefsg_preprocessed], ignore_index=True)\n",
    "\n",
    "    total_discounts_total_revenue_jamstones = total_discounts_total_revenue(jamstones_preprocessed)\n",
    "    total_discounts_total_revenue_lavval = total_discounts_total_revenue(lavval_preprocessed)\n",
    "    total_discounts_total_revenue_newagefsg = total_discounts_total_revenue(newagefsg_preprocessed)\n",
    "    total_discounts_total_revenue_aggregate = total_discounts_total_revenue(aggregate)\n",
    "\n",
    "    return {'Jamstones': total_discounts_total_revenue_jamstones, \n",
    "            'Lavval': total_discounts_total_revenue_lavval, \n",
    "            'NewAgeFSG': total_discounts_total_revenue_newagefsg, \n",
    "            'Aggregate': total_discounts_total_revenue_aggregate}\n",
    "\n",
    "get_total_discounts_total_revenue()"
   ]
  },
  {
   "cell_type": "code",
   "execution_count": null,
   "metadata": {},
   "outputs": [],
   "source": []
  }
 ],
 "metadata": {
  "kernelspec": {
   "display_name": "Python 3",
   "language": "python",
   "name": "python3"
  },
  "language_info": {
   "codemirror_mode": {
    "name": "ipython",
    "version": 3
   },
   "file_extension": ".py",
   "mimetype": "text/x-python",
   "name": "python",
   "nbconvert_exporter": "python",
   "pygments_lexer": "ipython3",
   "version": "3.7.4"
  },
  "varInspector": {
   "cols": {
    "lenName": 16,
    "lenType": 16,
    "lenVar": 40
   },
   "kernels_config": {
    "python": {
     "delete_cmd_postfix": "",
     "delete_cmd_prefix": "del ",
     "library": "var_list.py",
     "varRefreshCmd": "print(var_dic_list())"
    },
    "r": {
     "delete_cmd_postfix": ") ",
     "delete_cmd_prefix": "rm(",
     "library": "var_list.r",
     "varRefreshCmd": "cat(var_dic_list()) "
    }
   },
   "types_to_exclude": [
    "module",
    "function",
    "builtin_function_or_method",
    "instance",
    "_Feature"
   ],
   "window_display": false
  }
 },
 "nbformat": 4,
 "nbformat_minor": 2
}
